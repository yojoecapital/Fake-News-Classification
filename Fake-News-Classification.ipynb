{
 "cells": [
  {
   "cell_type": "markdown",
   "metadata": {
    "id": "OVpnFsovlhc0"
   },
   "source": [
    "# Fake-News-Classification\n",
    "\n",
    "**Group 20**\n",
    "\n",
    "*Justin Panagakis*\n",
    "\n",
    "*Yousef Suleiman*\n",
    "\n",
    "## Steps\n",
    "\n",
    "1. Preprocess titles by making lowercase, removing punctuation, removing stopwords, and stemming\n",
    "\n",
    "     - stopwords are common english tokens like \"the\" and \"a\"\n",
    "\n",
    "     - stemming is reducing words to their roots\n",
    "\n",
    "2. Vectorize each title pair by using TF-IDF and find the cosine distance between them\n",
    "3. Using `nltk`'s `SentimentIntensityAnalyzer`, create sentiment vectors and calculate the cosine distance between each title pair\n",
    "4. Count the number of common words between the titles pairs\n",
    "5. Count the number of frequently used disagreed words (or `fdw`) in the second title\n",
    "\n",
    "    - `fdw` is a list of the 5 most frequently used words found in \"disagreed\" titles from title 2 found the training data \n",
    "    \n",
    "6. Build a decision tree to classify the title pairs as `agree`, `disagree`, or `unrelated`"
   ]
  },
  {
   "cell_type": "markdown",
   "metadata": {},
   "source": [
    "## Resources\n",
    "\n",
    "### Libraries\n",
    "\n",
    "- [pandas](https://pandas.pydata.org/docs/user_guide/index.html)\n",
    "- [nltk](https://www.nltk.org/)\n",
    "- [scikit-learn](https://scikit-learn.org/stable/user_guide.html)\n",
    "- [numpy](https://numpy.org/doc/)\n",
    "- [Ipython](https://ipython.readthedocs.io/en/stable/)\n",
    "\n",
    "### Tutorials\n",
    "\n",
    "* [TF-IDF Explained And Python Sklearn Implementation](https://towardsdatascience.com/tf-idf-explained-and-python-sklearn-implementation-b020c5e83275)\n",
    "* [Text pre-processing: Stop words removal using different libraries](https://towardsdatascience.com/text-pre-processing-stop-words-removal-using-different-libraries-f20bac19929a)\n",
    "* [How To Use Python pandas dropna() to Drop NA Values from DataFrame](https://www.digitalocean.com/community/tutorials/pandas-dropna-drop-null-na-values-from-dataframe)\n",
    "* [Stemming Text with NLTK](https://towardsdatascience.com/stemming-corpus-with-nltk-7a6a6d02d3e5)\n",
    "* [FreqDist with NLTK](https://stackoverflow.com/questions/4634787/freqdist-with-nltk)\n",
    "* [Decision Tree Classification in Python Tutorial](https://www.datacamp.com/tutorial/decision-tree-classification-python)\n",
    "* [Neural Network Model Balanced Weight For Imbalanced Classification In Keras](https://medium.com/grabngoinfo/neural-network-model-balanced-weight-for-imbalanced-classification-in-keras-68d7b6c1462c)\n",
    "* [What is Overfitting in Deep Learning [+10 Ways to Avoid It]](https://www.v7labs.com/blog/overfitting)\n",
    "* [Random Forest Classifier using Scikit-learn](https://www.geeksforgeeks.org/random-forest-classifier-using-scikit-learn/#)\n"
   ]
  },
  {
   "cell_type": "code",
   "execution_count": 1,
   "metadata": {},
   "outputs": [],
   "source": [
    "import os\n",
    "import string\n",
    "\n",
    "import pandas as pd\n",
    "\n",
    "import numpy as np\n",
    "\n",
    "import matplotlib.pyplot as plt\n",
    "\n",
    "import nltk\n",
    "from nltk import FreqDist\n",
    "from nltk.corpus import stopwords\n",
    "from nltk.stem import PorterStemmer\n",
    "from nltk.sentiment import SentimentIntensityAnalyzer\n",
    "from nltk.tokenize import word_tokenize\n",
    "\n",
    "from sklearn import metrics\n",
    "from sklearn.feature_extraction.text import TfidfVectorizer\n",
    "from sklearn.model_selection import train_test_split\n",
    "from sklearn.metrics import f1_score, precision_score, recall_score, make_scorer\n",
    "from sklearn.model_selection import train_test_split\n",
    "from sklearn.metrics import accuracy_score, confusion_matrix, ConfusionMatrixDisplay\n",
    "from sklearn.tree import DecisionTreeClassifier\n",
    "from sklearn.ensemble import RandomForestClassifier\n",
    "from sklearn.model_selection import GridSearchCV\n",
    "from sklearn.model_selection import KFold\n",
    "\n",
    "from IPython.display import display, clear_output"
   ]
  },
  {
   "cell_type": "markdown",
   "metadata": {},
   "source": [
    "## Helper Functions for Preprocessing"
   ]
  },
  {
   "cell_type": "code",
   "execution_count": 2,
   "metadata": {
    "colab": {
     "base_uri": "https://localhost:8080/"
    },
    "id": "IvmGt6k9lfRS",
    "outputId": "967e93e2-ec7c-48d0-d42d-ddd263e7a5e1"
   },
   "outputs": [
    {
     "name": "stderr",
     "output_type": "stream",
     "text": [
      "[nltk_data] Downloading package stopwords to\n",
      "[nltk_data]     C:\\Users\\Yousef\\AppData\\Roaming\\nltk_data...\n",
      "[nltk_data]   Package stopwords is already up-to-date!\n",
      "[nltk_data] Downloading package punkt to\n",
      "[nltk_data]     C:\\Users\\Yousef\\AppData\\Roaming\\nltk_data...\n",
      "[nltk_data]   Package punkt is already up-to-date!\n"
     ]
    }
   ],
   "source": [
    "nltk.download('stopwords')\n",
    "nltk.download('punkt')\n",
    "\n",
    "# preprocess a single title\n",
    "def preprocess_title(title:str):\n",
    "    # convert to lowercase and remove punctuation\n",
    "    title = title.lower()\n",
    "    translator = str.maketrans('', '', string.punctuation)\n",
    "    title = title.translate(translator)\n",
    "    # tokenize\n",
    "    words = nltk.word_tokenize(title)\n",
    "    # remove stopwords\n",
    "    words = [word for word in words if word not in stopwords.words('english')]\n",
    "    # stem the remaining words\n",
    "    stemmer = PorterStemmer()\n",
    "    words = [stemmer.stem(word) for word in words]\n",
    "    # join the stemmed words back into a single string\n",
    "    stemmed_title = ' '.join(words)\n",
    "    return stemmed_title"
   ]
  },
  {
   "cell_type": "code",
   "execution_count": 3,
   "metadata": {},
   "outputs": [],
   "source": [
    "# calculates cosine distance between two vectors a b\n",
    "def cosine_distance(a:list, b:list):\n",
    "    dot_product = np.dot(a, b)\n",
    "    norm_a = np.linalg.norm(a)\n",
    "    norm_b = np.linalg.norm(b)\n",
    "    denom = norm_a * norm_b\n",
    "    if denom == 0:\n",
    "        return 0\n",
    "    return 1 - dot_product / denom"
   ]
  },
  {
   "cell_type": "code",
   "execution_count": 4,
   "metadata": {},
   "outputs": [],
   "source": [
    "vectorizer = TfidfVectorizer(max_features=100)\n",
    "\n",
    "# takes 2 titles and returns 2 TF-IDF vectors\n",
    "def tfidf(title1:str, title2:str):\n",
    "    titles = [title1, title2]\n",
    "    title_vectors = list(vectorizer.fit_transform(titles).todense().tolist()) \n",
    "    return tuple(title_vectors)\n",
    "\n",
    "def tfidf_distance(title1:str, title2:str):\n",
    "    tfidf1, tfidf2 = tfidf(title1, title2)\n",
    "    return cosine_distance(tfidf1, tfidf2)"
   ]
  },
  {
   "cell_type": "code",
   "execution_count": 5,
   "metadata": {},
   "outputs": [
    {
     "name": "stderr",
     "output_type": "stream",
     "text": [
      "[nltk_data] Downloading package vader_lexicon to\n",
      "[nltk_data]     C:\\Users\\Yousef\\AppData\\Roaming\\nltk_data...\n",
      "[nltk_data]   Package vader_lexicon is already up-to-date!\n"
     ]
    }
   ],
   "source": [
    "nltk.download('vader_lexicon')\n",
    "\n",
    "sia = SentimentIntensityAnalyzer()\n",
    "\n",
    "# finds the cosine distance between the sentiments of two titles\n",
    "# the first return is the cosine distance, the second is the difference between the compounds\n",
    "def sentiment_distance(title1:str, title2:str):\n",
    "    s1 = list(sia.polarity_scores(title1).values())\n",
    "    s2 = list(sia.polarity_scores(title2).values())\n",
    "    return (cosine_distance(s1[:3], s2[:3]), abs(s1[1] - s2[1]))"
   ]
  },
  {
   "cell_type": "code",
   "execution_count": 6,
   "metadata": {},
   "outputs": [],
   "source": [
    "# compute the intersection of the token sets of two titles\n",
    "def count_common_words(title1:str, title2:str):\n",
    "    tokens1 = set(nltk.word_tokenize(title1.lower()))\n",
    "    tokens2 = set(nltk.word_tokenize(title2.lower()))\n",
    "    common_words = tokens1.intersection(tokens2)\n",
    "    return len(common_words)"
   ]
  },
  {
   "cell_type": "code",
   "execution_count": 7,
   "metadata": {},
   "outputs": [],
   "source": [
    "def alpha_char_len(s):\n",
    "    return sum(c.isalpha() for c in str(s))"
   ]
  },
  {
   "cell_type": "code",
   "execution_count": 8,
   "metadata": {},
   "outputs": [],
   "source": [
    "# this checks to see if a string s has at least n alphabetical characters\n",
    "def has_min_alpha_chars(s, n):\n",
    "    alpha_chars = sum(c.isalpha() for c in s)\n",
    "    return alpha_chars >= n"
   ]
  },
  {
   "cell_type": "markdown",
   "metadata": {},
   "source": [
    "## Demonstraition of Preprocessing"
   ]
  },
  {
   "cell_type": "code",
   "execution_count": 9,
   "metadata": {
    "colab": {
     "base_uri": "https://localhost:8080/"
    },
    "id": "aPPJvaOtoOJs",
    "outputId": "e69ea469-c845-4b61-b6d0-d877f000d0f4"
   },
   "outputs": [
    {
     "data": {
      "text/html": [
       "<div>\n",
       "<style scoped>\n",
       "    .dataframe tbody tr th:only-of-type {\n",
       "        vertical-align: middle;\n",
       "    }\n",
       "\n",
       "    .dataframe tbody tr th {\n",
       "        vertical-align: top;\n",
       "    }\n",
       "\n",
       "    .dataframe thead th {\n",
       "        text-align: right;\n",
       "    }\n",
       "</style>\n",
       "<table border=\"1\" class=\"dataframe\">\n",
       "  <thead>\n",
       "    <tr style=\"text-align: right;\">\n",
       "      <th></th>\n",
       "      <th>articl</th>\n",
       "      <th>fake</th>\n",
       "      <th>im</th>\n",
       "      <th>news</th>\n",
       "      <th>real</th>\n",
       "      <th>realli</th>\n",
       "      <th>sure</th>\n",
       "      <th>titl</th>\n",
       "    </tr>\n",
       "  </thead>\n",
       "  <tbody>\n",
       "    <tr>\n",
       "      <th>0</th>\n",
       "      <td>0.576152</td>\n",
       "      <td>0.576152</td>\n",
       "      <td>0.000000</td>\n",
       "      <td>0.409937</td>\n",
       "      <td>0.000000</td>\n",
       "      <td>0.000000</td>\n",
       "      <td>0.000000</td>\n",
       "      <td>0.409937</td>\n",
       "    </tr>\n",
       "    <tr>\n",
       "      <th>1</th>\n",
       "      <td>0.000000</td>\n",
       "      <td>0.000000</td>\n",
       "      <td>0.446656</td>\n",
       "      <td>0.317800</td>\n",
       "      <td>0.446656</td>\n",
       "      <td>0.446656</td>\n",
       "      <td>0.446656</td>\n",
       "      <td>0.317800</td>\n",
       "    </tr>\n",
       "  </tbody>\n",
       "</table>\n",
       "</div>"
      ],
      "text/plain": [
       "     articl      fake        im      news      real    realli      sure  \\\n",
       "0  0.576152  0.576152  0.000000  0.409937  0.000000  0.000000  0.000000   \n",
       "1  0.000000  0.000000  0.446656  0.317800  0.446656  0.446656  0.446656   \n",
       "\n",
       "       titl  \n",
       "0  0.409937  \n",
       "1  0.317800  "
      ]
     },
     "execution_count": 9,
     "metadata": {},
     "output_type": "execute_result"
    }
   ],
   "source": [
    "title1 = preprocess_title('I am a title of a fake news article...')\n",
    "title2 = preprocess_title('I\\'m not really sure if this news title is real?')\n",
    "\n",
    "vectorizer.fit_transform([title1, title2])\n",
    "token_labels = vectorizer.get_feature_names_out().tolist()\n",
    "\n",
    "title_vectors = list(tfidf(title1, title2))\n",
    "\n",
    "pd.DataFrame(title_vectors, columns=token_labels)"
   ]
  },
  {
   "cell_type": "code",
   "execution_count": 10,
   "metadata": {},
   "outputs": [
    {
     "data": {
      "text/plain": [
       "0.7394443289437376"
      ]
     },
     "execution_count": 10,
     "metadata": {},
     "output_type": "execute_result"
    }
   ],
   "source": [
    "tfidf_distance(title1, title2)"
   ]
  },
  {
   "cell_type": "code",
   "execution_count": 11,
   "metadata": {},
   "outputs": [
    {
     "data": {
      "text/plain": [
       "(0.13084828571329687, 0.138)"
      ]
     },
     "execution_count": 11,
     "metadata": {},
     "output_type": "execute_result"
    }
   ],
   "source": [
    "title1 = 'I am a title of a dumb and fake news article...'\n",
    "title2 = 'I\\'m not really sure if this news title is real but is sure sounds cool?'\n",
    "\n",
    "sentiment_distance(title1, title2)"
   ]
  },
  {
   "cell_type": "code",
   "execution_count": 12,
   "metadata": {},
   "outputs": [
    {
     "data": {
      "text/plain": [
       "5"
      ]
     },
     "execution_count": 12,
     "metadata": {},
     "output_type": "execute_result"
    }
   ],
   "source": [
    "title1 = preprocess_title('I am a title of a evil and fake news article...')\n",
    "title2 = preprocess_title('I\\'m also the title of a perhaps evil and fake news article')\n",
    "\n",
    "count_common_words(title1, title2)"
   ]
  },
  {
   "cell_type": "markdown",
   "metadata": {},
   "source": [
    "## Some Analysis of the Transformed Data\n",
    "Note that these next cells have been run after [preprocessing](#Cleaning-&-Preprocessing) has been done"
   ]
  },
  {
   "cell_type": "code",
   "execution_count": 13,
   "metadata": {},
   "outputs": [
    {
     "data": {
      "text/html": [
       "<div>\n",
       "<style scoped>\n",
       "    .dataframe tbody tr th:only-of-type {\n",
       "        vertical-align: middle;\n",
       "    }\n",
       "\n",
       "    .dataframe tbody tr th {\n",
       "        vertical-align: top;\n",
       "    }\n",
       "\n",
       "    .dataframe thead tr th {\n",
       "        text-align: left;\n",
       "    }\n",
       "\n",
       "    .dataframe thead tr:last-of-type th {\n",
       "        text-align: right;\n",
       "    }\n",
       "</style>\n",
       "<table border=\"1\" class=\"dataframe\">\n",
       "  <thead>\n",
       "    <tr>\n",
       "      <th></th>\n",
       "      <th colspan=\"8\" halign=\"left\">id</th>\n",
       "      <th colspan=\"5\" halign=\"left\">tid1</th>\n",
       "      <th colspan=\"8\" halign=\"left\">tid2</th>\n",
       "    </tr>\n",
       "    <tr>\n",
       "      <th></th>\n",
       "      <th>count</th>\n",
       "      <th>mean</th>\n",
       "      <th>std</th>\n",
       "      <th>min</th>\n",
       "      <th>25%</th>\n",
       "      <th>50%</th>\n",
       "      <th>75%</th>\n",
       "      <th>max</th>\n",
       "      <th>count</th>\n",
       "      <th>mean</th>\n",
       "      <th>...</th>\n",
       "      <th>75%</th>\n",
       "      <th>max</th>\n",
       "      <th>count</th>\n",
       "      <th>mean</th>\n",
       "      <th>std</th>\n",
       "      <th>min</th>\n",
       "      <th>25%</th>\n",
       "      <th>50%</th>\n",
       "      <th>75%</th>\n",
       "      <th>max</th>\n",
       "    </tr>\n",
       "    <tr>\n",
       "      <th>label</th>\n",
       "      <th></th>\n",
       "      <th></th>\n",
       "      <th></th>\n",
       "      <th></th>\n",
       "      <th></th>\n",
       "      <th></th>\n",
       "      <th></th>\n",
       "      <th></th>\n",
       "      <th></th>\n",
       "      <th></th>\n",
       "      <th></th>\n",
       "      <th></th>\n",
       "      <th></th>\n",
       "      <th></th>\n",
       "      <th></th>\n",
       "      <th></th>\n",
       "      <th></th>\n",
       "      <th></th>\n",
       "      <th></th>\n",
       "      <th></th>\n",
       "      <th></th>\n",
       "    </tr>\n",
       "  </thead>\n",
       "  <tbody>\n",
       "    <tr>\n",
       "      <th>agreed</th>\n",
       "      <td>74238.0</td>\n",
       "      <td>127986.522778</td>\n",
       "      <td>74025.309151</td>\n",
       "      <td>2.0</td>\n",
       "      <td>63359.00</td>\n",
       "      <td>128244.0</td>\n",
       "      <td>191713.25</td>\n",
       "      <td>256441.0</td>\n",
       "      <td>74238.0</td>\n",
       "      <td>82709.604704</td>\n",
       "      <td>...</td>\n",
       "      <td>124260.75</td>\n",
       "      <td>167561.0</td>\n",
       "      <td>74238.0</td>\n",
       "      <td>72300.992753</td>\n",
       "      <td>46812.840703</td>\n",
       "      <td>6.0</td>\n",
       "      <td>33058.0</td>\n",
       "      <td>68579.0</td>\n",
       "      <td>109823.50</td>\n",
       "      <td>167555.0</td>\n",
       "    </tr>\n",
       "    <tr>\n",
       "      <th>disagreed</th>\n",
       "      <td>6606.0</td>\n",
       "      <td>129294.151680</td>\n",
       "      <td>74634.951495</td>\n",
       "      <td>41.0</td>\n",
       "      <td>64876.50</td>\n",
       "      <td>129513.0</td>\n",
       "      <td>194186.75</td>\n",
       "      <td>256328.0</td>\n",
       "      <td>6606.0</td>\n",
       "      <td>92406.464729</td>\n",
       "      <td>...</td>\n",
       "      <td>135822.00</td>\n",
       "      <td>167559.0</td>\n",
       "      <td>6606.0</td>\n",
       "      <td>68713.699667</td>\n",
       "      <td>46496.680976</td>\n",
       "      <td>3.0</td>\n",
       "      <td>25461.0</td>\n",
       "      <td>60066.0</td>\n",
       "      <td>110341.75</td>\n",
       "      <td>167409.0</td>\n",
       "    </tr>\n",
       "    <tr>\n",
       "      <th>unrelated</th>\n",
       "      <td>175598.0</td>\n",
       "      <td>128279.028332</td>\n",
       "      <td>74006.997137</td>\n",
       "      <td>0.0</td>\n",
       "      <td>64404.25</td>\n",
       "      <td>128156.0</td>\n",
       "      <td>192533.25</td>\n",
       "      <td>256440.0</td>\n",
       "      <td>175598.0</td>\n",
       "      <td>85782.753260</td>\n",
       "      <td>...</td>\n",
       "      <td>128653.00</td>\n",
       "      <td>167563.0</td>\n",
       "      <td>175598.0</td>\n",
       "      <td>68655.793335</td>\n",
       "      <td>44823.242980</td>\n",
       "      <td>1.0</td>\n",
       "      <td>29906.0</td>\n",
       "      <td>62324.0</td>\n",
       "      <td>103311.75</td>\n",
       "      <td>167557.0</td>\n",
       "    </tr>\n",
       "  </tbody>\n",
       "</table>\n",
       "<p>3 rows × 24 columns</p>\n",
       "</div>"
      ],
      "text/plain": [
       "                 id                                                         \\\n",
       "              count           mean           std   min       25%       50%   \n",
       "label                                                                        \n",
       "agreed      74238.0  127986.522778  74025.309151   2.0  63359.00  128244.0   \n",
       "disagreed    6606.0  129294.151680  74634.951495  41.0  64876.50  129513.0   \n",
       "unrelated  175598.0  128279.028332  74006.997137   0.0  64404.25  128156.0   \n",
       "\n",
       "                                    tid1                ...             \\\n",
       "                 75%       max     count          mean  ...        75%   \n",
       "label                                                   ...              \n",
       "agreed     191713.25  256441.0   74238.0  82709.604704  ...  124260.75   \n",
       "disagreed  194186.75  256328.0    6606.0  92406.464729  ...  135822.00   \n",
       "unrelated  192533.25  256440.0  175598.0  85782.753260  ...  128653.00   \n",
       "\n",
       "                         tid2                                            \\\n",
       "                max     count          mean           std  min      25%   \n",
       "label                                                                     \n",
       "agreed     167561.0   74238.0  72300.992753  46812.840703  6.0  33058.0   \n",
       "disagreed  167559.0    6606.0  68713.699667  46496.680976  3.0  25461.0   \n",
       "unrelated  167563.0  175598.0  68655.793335  44823.242980  1.0  29906.0   \n",
       "\n",
       "                                         \n",
       "               50%        75%       max  \n",
       "label                                    \n",
       "agreed     68579.0  109823.50  167555.0  \n",
       "disagreed  60066.0  110341.75  167409.0  \n",
       "unrelated  62324.0  103311.75  167557.0  \n",
       "\n",
       "[3 rows x 24 columns]"
      ]
     },
     "execution_count": 13,
     "metadata": {},
     "output_type": "execute_result"
    }
   ],
   "source": [
    "df = pd.read_csv('train.csv')\n",
    "df.groupby('label').describe()"
   ]
  },
  {
   "cell_type": "code",
   "execution_count": 14,
   "metadata": {
    "scrolled": true
   },
   "outputs": [
    {
     "data": {
      "text/html": [
       "<div>\n",
       "<style scoped>\n",
       "    .dataframe tbody tr th:only-of-type {\n",
       "        vertical-align: middle;\n",
       "    }\n",
       "\n",
       "    .dataframe tbody tr th {\n",
       "        vertical-align: top;\n",
       "    }\n",
       "\n",
       "    .dataframe thead tr th {\n",
       "        text-align: left;\n",
       "    }\n",
       "\n",
       "    .dataframe thead tr:last-of-type th {\n",
       "        text-align: right;\n",
       "    }\n",
       "</style>\n",
       "<table border=\"1\" class=\"dataframe\">\n",
       "  <thead>\n",
       "    <tr>\n",
       "      <th></th>\n",
       "      <th colspan=\"3\" halign=\"left\">title1_en</th>\n",
       "      <th colspan=\"3\" halign=\"left\">title2_en</th>\n",
       "    </tr>\n",
       "    <tr>\n",
       "      <th></th>\n",
       "      <th>max</th>\n",
       "      <th>min</th>\n",
       "      <th>mean</th>\n",
       "      <th>max</th>\n",
       "      <th>min</th>\n",
       "      <th>mean</th>\n",
       "    </tr>\n",
       "    <tr>\n",
       "      <th>label</th>\n",
       "      <th></th>\n",
       "      <th></th>\n",
       "      <th></th>\n",
       "      <th></th>\n",
       "      <th></th>\n",
       "      <th></th>\n",
       "    </tr>\n",
       "  </thead>\n",
       "  <tbody>\n",
       "    <tr>\n",
       "      <th>agreed</th>\n",
       "      <td>1133</td>\n",
       "      <td>0</td>\n",
       "      <td>74.661817</td>\n",
       "      <td>514</td>\n",
       "      <td>0</td>\n",
       "      <td>74.665171</td>\n",
       "    </tr>\n",
       "    <tr>\n",
       "      <th>disagreed</th>\n",
       "      <td>491</td>\n",
       "      <td>10</td>\n",
       "      <td>66.664245</td>\n",
       "      <td>500</td>\n",
       "      <td>0</td>\n",
       "      <td>74.304874</td>\n",
       "    </tr>\n",
       "    <tr>\n",
       "      <th>unrelated</th>\n",
       "      <td>1253</td>\n",
       "      <td>0</td>\n",
       "      <td>73.658971</td>\n",
       "      <td>1997</td>\n",
       "      <td>0</td>\n",
       "      <td>75.212975</td>\n",
       "    </tr>\n",
       "  </tbody>\n",
       "</table>\n",
       "</div>"
      ],
      "text/plain": [
       "          title1_en                title2_en               \n",
       "                max min       mean       max min       mean\n",
       "label                                                      \n",
       "agreed         1133   0  74.661817       514   0  74.665171\n",
       "disagreed       491  10  66.664245       500   0  74.304874\n",
       "unrelated      1253   0  73.658971      1997   0  75.212975"
      ]
     },
     "execution_count": 14,
     "metadata": {},
     "output_type": "execute_result"
    }
   ],
   "source": [
    "# what are the number of alphabetical characters in each title?\n",
    "df['title1_en'] = df['title1_en'].apply(alpha_char_len)\n",
    "df['title2_en'] = df['title2_en'].apply(alpha_char_len)\n",
    "\n",
    "df.groupby('label').agg({\n",
    "    'title1_en': [max, min, 'mean'],\n",
    "    'title2_en': [max, min, 'mean']\n",
    "})"
   ]
  },
  {
   "cell_type": "code",
   "execution_count": 15,
   "metadata": {},
   "outputs": [
    {
     "data": {
      "text/html": [
       "<div>\n",
       "<style scoped>\n",
       "    .dataframe tbody tr th:only-of-type {\n",
       "        vertical-align: middle;\n",
       "    }\n",
       "\n",
       "    .dataframe tbody tr th {\n",
       "        vertical-align: top;\n",
       "    }\n",
       "\n",
       "    .dataframe thead th {\n",
       "        text-align: right;\n",
       "    }\n",
       "</style>\n",
       "<table border=\"1\" class=\"dataframe\">\n",
       "  <thead>\n",
       "    <tr style=\"text-align: right;\">\n",
       "      <th></th>\n",
       "      <th>sentiment_cosine_distance</th>\n",
       "      <th>sentiment_difference_distance</th>\n",
       "      <th>tfidf_distance</th>\n",
       "      <th>common_word_count</th>\n",
       "      <th>fdw_count</th>\n",
       "    </tr>\n",
       "    <tr>\n",
       "      <th>label</th>\n",
       "      <th></th>\n",
       "      <th></th>\n",
       "      <th></th>\n",
       "      <th></th>\n",
       "      <th></th>\n",
       "    </tr>\n",
       "  </thead>\n",
       "  <tbody>\n",
       "    <tr>\n",
       "      <th>0</th>\n",
       "      <td>0.034138</td>\n",
       "      <td>0.122205</td>\n",
       "      <td>0.694680</td>\n",
       "      <td>4.021274</td>\n",
       "      <td>0.136606</td>\n",
       "    </tr>\n",
       "    <tr>\n",
       "      <th>1</th>\n",
       "      <td>0.042853</td>\n",
       "      <td>0.145792</td>\n",
       "      <td>0.788922</td>\n",
       "      <td>2.783983</td>\n",
       "      <td>1.024073</td>\n",
       "    </tr>\n",
       "    <tr>\n",
       "      <th>2</th>\n",
       "      <td>0.051721</td>\n",
       "      <td>0.155937</td>\n",
       "      <td>0.901110</td>\n",
       "      <td>1.422233</td>\n",
       "      <td>0.451373</td>\n",
       "    </tr>\n",
       "  </tbody>\n",
       "</table>\n",
       "</div>"
      ],
      "text/plain": [
       "       sentiment_cosine_distance  sentiment_difference_distance  \\\n",
       "label                                                             \n",
       "0                       0.034138                       0.122205   \n",
       "1                       0.042853                       0.145792   \n",
       "2                       0.051721                       0.155937   \n",
       "\n",
       "       tfidf_distance  common_word_count  fdw_count  \n",
       "label                                                \n",
       "0            0.694680           4.021274   0.136606  \n",
       "1            0.788922           2.783983   1.024073  \n",
       "2            0.901110           1.422233   0.451373  "
      ]
     },
     "execution_count": 15,
     "metadata": {},
     "output_type": "execute_result"
    }
   ],
   "source": [
    "titles_df = pd.read_csv(\"train-transformed.csv\")\n",
    "titles_df.groupby('label').mean()"
   ]
  },
  {
   "cell_type": "markdown",
   "metadata": {
    "id": "9CMkiYEEmvbT"
   },
   "source": [
    "## Cleaning & Preprocessing"
   ]
  },
  {
   "cell_type": "code",
   "execution_count": 18,
   "metadata": {
    "id": "VIhH6El6nJYM"
   },
   "outputs": [],
   "source": [
    "# calculate sentiment distances between each title pair\n",
    "def get_sentiment_data(df):\n",
    "    sentiment_cosine_data = []\n",
    "    sentiment_difference_data = []\n",
    "    for i, row in df.iterrows():\n",
    "        title1 = row['title1_en']\n",
    "        title2 = row['title2_en']\n",
    "        cosine, difference = sentiment_distance(title1, title2)\n",
    "        sentiment_cosine_data.append(cosine)\n",
    "        sentiment_difference_data.append(difference)\n",
    "\n",
    "        if i % 100 == 0:\n",
    "            print('1/5:', i)\n",
    "            clear_output(wait=True)\n",
    "    print('1/5:', len(sentiment_cosine_data))\n",
    "    return (sentiment_cosine_data, sentiment_difference_data)"
   ]
  },
  {
   "cell_type": "code",
   "execution_count": 19,
   "metadata": {},
   "outputs": [],
   "source": [
    "# preprocess each title pair\n",
    "def save_preprocessed_titles(df, filename: str):\n",
    "    titles_df = pd.DataFrame(columns=['title1', 'title2'])\n",
    "    for i, row in df.iterrows():\n",
    "        # preprocess the titles in the current row\n",
    "        title1 = preprocess_title(row['title1_en'])\n",
    "        title2 = preprocess_title(row['title2_en'])\n",
    "\n",
    "        # add the processed titles as a new row to the processed dataframe\n",
    "        titles_df = pd.concat([titles_df, pd.DataFrame({'title1': [title1], 'title2': [title2]})], ignore_index=True)\n",
    "\n",
    "        if i % 100 == 0:\n",
    "            print('2/5:', i)\n",
    "            clear_output(wait=True)\n",
    "    print('2/5:', len(titles_df))\n",
    "    titles_df.to_csv(filename, index=False)\n",
    "    return titles_df"
   ]
  },
  {
   "cell_type": "code",
   "execution_count": 20,
   "metadata": {},
   "outputs": [],
   "source": [
    "# calculate the TF-IDF distances for each title pair\n",
    "def get_tfidf_data(titles_df):\n",
    "    tfidf_data = []\n",
    "    for i, row in titles_df.iterrows():\n",
    "        title1 = str(row['title1'])\n",
    "        title2 = str(row['title2'])\n",
    "\n",
    "        tfidf_data.append(tfidf_distance(title1, title2))\n",
    "\n",
    "        if i % 100 == 0:\n",
    "            print('3/5:', i)\n",
    "            clear_output(wait=True)\n",
    "    print('3/5:', len(tfidf_data))\n",
    "    return tfidf_data"
   ]
  },
  {
   "cell_type": "code",
   "execution_count": 21,
   "metadata": {},
   "outputs": [],
   "source": [
    "# calculate the common word count for each title pair\n",
    "def get_common_word_data(titles_df):\n",
    "    common_word_data = []\n",
    "    for i, row in titles_df.iterrows():\n",
    "        title1 = str(row['title1'])\n",
    "        title2 = str(row['title2'])\n",
    "\n",
    "        common_word_data.append(count_common_words(title1, title2))\n",
    "\n",
    "        if i % 100 == 0:\n",
    "            print('4/5:', i)\n",
    "            clear_output(wait=True)\n",
    "    print('4/5:', len(common_word_data))\n",
    "    return common_word_data"
   ]
  },
  {
   "cell_type": "code",
   "execution_count": 22,
   "metadata": {},
   "outputs": [],
   "source": [
    "# calculate the number of words in fdw list\n",
    "def get_fdw_data(titles_df):\n",
    "    fdw_data = []\n",
    "    for title2 in titles_df['title2']:\n",
    "        fdw_data.append(fdw_count(str(title2)))\n",
    "    clear_output(wait=True)\n",
    "    print('5/5:', len(fdw_data))\n",
    "    return fdw_data"
   ]
  },
  {
   "cell_type": "markdown",
   "metadata": {},
   "source": [
    "### `preprocess_input`\n",
    "- This function takes an input `df` and preprocesses it\n",
    "- `ptFilename` is the file name that is saved and loaded for preprocessed title pairs\n",
    "- if `run_pt` is `False`, it will not preprocess the the title pairs and just load from `ptFilename`"
   ]
  },
  {
   "cell_type": "code",
   "execution_count": 23,
   "metadata": {},
   "outputs": [],
   "source": [
    "def preprocess_input(df, ptFilename: str, run_pt = True):\n",
    "    sentiment_cosine_data, sentiment_difference_data = get_sentiment_data(df)\n",
    "    if run_pt:\n",
    "        titles_df = save_preprocessed_titles(df, ptFilename)\n",
    "    else:\n",
    "        titles_df = pd.read_csv(ptFilename)\n",
    "    tfidf_data = get_tfidf_data(titles_df)\n",
    "    common_word_data = get_common_word_data(titles_df)\n",
    "    #fdw_data = get_fdw_data(titles_df)\n",
    "    input_df = pd.DataFrame()\n",
    "    input_df['sentiment_cosine_distance'] = sentiment_cosine_data\n",
    "    input_df['sentiment_difference_distance'] = sentiment_difference_data\n",
    "    input_df['tfidf_distance'] = tfidf_data\n",
    "    input_df['common_word_count'] = common_word_data\n",
    "    #input_df['fdw_count'] = fdw_data\n",
    "    return input_df"
   ]
  },
  {
   "cell_type": "code",
   "execution_count": 25,
   "metadata": {},
   "outputs": [
    {
     "name": "stdout",
     "output_type": "stream",
     "text": [
      "rows: 244404\n"
     ]
    },
    {
     "data": {
      "text/html": [
       "<div>\n",
       "<style scoped>\n",
       "    .dataframe tbody tr th:only-of-type {\n",
       "        vertical-align: middle;\n",
       "    }\n",
       "\n",
       "    .dataframe tbody tr th {\n",
       "        vertical-align: top;\n",
       "    }\n",
       "\n",
       "    .dataframe thead th {\n",
       "        text-align: right;\n",
       "    }\n",
       "</style>\n",
       "<table border=\"1\" class=\"dataframe\">\n",
       "  <thead>\n",
       "    <tr style=\"text-align: right;\">\n",
       "      <th></th>\n",
       "      <th>id</th>\n",
       "      <th>tid1</th>\n",
       "      <th>tid2</th>\n",
       "      <th>title1_en</th>\n",
       "      <th>title2_en</th>\n",
       "      <th>label</th>\n",
       "    </tr>\n",
       "  </thead>\n",
       "  <tbody>\n",
       "    <tr>\n",
       "      <th>0</th>\n",
       "      <td>195611</td>\n",
       "      <td>0</td>\n",
       "      <td>1</td>\n",
       "      <td>There are two new old-age insurance benefits f...</td>\n",
       "      <td>Police disprove \"bird's nest congress each per...</td>\n",
       "      <td>unrelated</td>\n",
       "    </tr>\n",
       "    <tr>\n",
       "      <th>1</th>\n",
       "      <td>191474</td>\n",
       "      <td>2</td>\n",
       "      <td>3</td>\n",
       "      <td>\"If you do not come to Shenzhen, sooner or lat...</td>\n",
       "      <td>Shenzhen's GDP outstrips Hong Kong? Shenzhen S...</td>\n",
       "      <td>unrelated</td>\n",
       "    </tr>\n",
       "    <tr>\n",
       "      <th>2</th>\n",
       "      <td>25300</td>\n",
       "      <td>2</td>\n",
       "      <td>4</td>\n",
       "      <td>\"If you do not come to Shenzhen, sooner or lat...</td>\n",
       "      <td>The GDP overtopped Hong Kong? Shenzhen clarifi...</td>\n",
       "      <td>unrelated</td>\n",
       "    </tr>\n",
       "    <tr>\n",
       "      <th>3</th>\n",
       "      <td>123757</td>\n",
       "      <td>2</td>\n",
       "      <td>8</td>\n",
       "      <td>\"If you do not come to Shenzhen, sooner or lat...</td>\n",
       "      <td>Shenzhen's GDP overtakes Hong Kong? Bureau of ...</td>\n",
       "      <td>unrelated</td>\n",
       "    </tr>\n",
       "    <tr>\n",
       "      <th>4</th>\n",
       "      <td>141761</td>\n",
       "      <td>2</td>\n",
       "      <td>11</td>\n",
       "      <td>\"If you do not come to Shenzhen, sooner or lat...</td>\n",
       "      <td>Shenzhen's GDP outpaces Hong Kong? Defending R...</td>\n",
       "      <td>unrelated</td>\n",
       "    </tr>\n",
       "  </tbody>\n",
       "</table>\n",
       "</div>"
      ],
      "text/plain": [
       "       id  tid1  tid2                                          title1_en  \\\n",
       "0  195611     0     1  There are two new old-age insurance benefits f...   \n",
       "1  191474     2     3  \"If you do not come to Shenzhen, sooner or lat...   \n",
       "2   25300     2     4  \"If you do not come to Shenzhen, sooner or lat...   \n",
       "3  123757     2     8  \"If you do not come to Shenzhen, sooner or lat...   \n",
       "4  141761     2    11  \"If you do not come to Shenzhen, sooner or lat...   \n",
       "\n",
       "                                           title2_en      label  \n",
       "0  Police disprove \"bird's nest congress each per...  unrelated  \n",
       "1  Shenzhen's GDP outstrips Hong Kong? Shenzhen S...  unrelated  \n",
       "2  The GDP overtopped Hong Kong? Shenzhen clarifi...  unrelated  \n",
       "3  Shenzhen's GDP overtakes Hong Kong? Bureau of ...  unrelated  \n",
       "4  Shenzhen's GDP outpaces Hong Kong? Defending R...  unrelated  "
      ]
     },
     "execution_count": 25,
     "metadata": {},
     "output_type": "execute_result"
    }
   ],
   "source": [
    "# load and clean the df\n",
    "df = pd.read_csv('train.csv')\n",
    "\n",
    "# drop any row that has less than 30 aphabetical characters\n",
    "n = 30\n",
    "df = df[df['title1_en'].apply(lambda s: has_min_alpha_chars(s, n))]\n",
    "df = df[df['title2_en'].apply(lambda s: has_min_alpha_chars(s, n))]\n",
    "print('rows:', len(df))\n",
    "df.head()"
   ]
  },
  {
   "cell_type": "code",
   "execution_count": 21,
   "metadata": {},
   "outputs": [
    {
     "name": "stdout",
     "output_type": "stream",
     "text": [
      "5/5: 244404\n"
     ]
    },
    {
     "data": {
      "text/html": [
       "<div>\n",
       "<style scoped>\n",
       "    .dataframe tbody tr th:only-of-type {\n",
       "        vertical-align: middle;\n",
       "    }\n",
       "\n",
       "    .dataframe tbody tr th {\n",
       "        vertical-align: top;\n",
       "    }\n",
       "\n",
       "    .dataframe thead th {\n",
       "        text-align: right;\n",
       "    }\n",
       "</style>\n",
       "<table border=\"1\" class=\"dataframe\">\n",
       "  <thead>\n",
       "    <tr style=\"text-align: right;\">\n",
       "      <th></th>\n",
       "      <th>sentiment_cosine_distance</th>\n",
       "      <th>sentiment_difference_distance</th>\n",
       "      <th>tfidf_distance</th>\n",
       "      <th>common_word_count</th>\n",
       "      <th>fdw_count</th>\n",
       "    </tr>\n",
       "  </thead>\n",
       "  <tbody>\n",
       "    <tr>\n",
       "      <th>count</th>\n",
       "      <td>6.411000e+04</td>\n",
       "      <td>64110.000000</td>\n",
       "      <td>6.411000e+04</td>\n",
       "      <td>64110.000000</td>\n",
       "      <td>64110.000000</td>\n",
       "    </tr>\n",
       "    <tr>\n",
       "      <th>mean</th>\n",
       "      <td>4.795703e-02</td>\n",
       "      <td>0.148097</td>\n",
       "      <td>8.371937e-01</td>\n",
       "      <td>2.174481</td>\n",
       "      <td>0.435813</td>\n",
       "    </tr>\n",
       "    <tr>\n",
       "      <th>std</th>\n",
       "      <td>6.939578e-02</td>\n",
       "      <td>0.125500</td>\n",
       "      <td>1.787317e-01</td>\n",
       "      <td>2.192545</td>\n",
       "      <td>0.667794</td>\n",
       "    </tr>\n",
       "    <tr>\n",
       "      <th>min</th>\n",
       "      <td>-2.220446e-16</td>\n",
       "      <td>0.000000</td>\n",
       "      <td>-2.220446e-16</td>\n",
       "      <td>0.000000</td>\n",
       "      <td>0.000000</td>\n",
       "    </tr>\n",
       "    <tr>\n",
       "      <th>25%</th>\n",
       "      <td>5.893729e-03</td>\n",
       "      <td>0.044000</td>\n",
       "      <td>7.565263e-01</td>\n",
       "      <td>0.000000</td>\n",
       "      <td>0.000000</td>\n",
       "    </tr>\n",
       "    <tr>\n",
       "      <th>50%</th>\n",
       "      <td>2.326926e-02</td>\n",
       "      <td>0.128000</td>\n",
       "      <td>8.850488e-01</td>\n",
       "      <td>2.000000</td>\n",
       "      <td>0.000000</td>\n",
       "    </tr>\n",
       "    <tr>\n",
       "      <th>75%</th>\n",
       "      <td>6.095794e-02</td>\n",
       "      <td>0.221000</td>\n",
       "      <td>1.000000e+00</td>\n",
       "      <td>3.000000</td>\n",
       "      <td>1.000000</td>\n",
       "    </tr>\n",
       "    <tr>\n",
       "      <th>max</th>\n",
       "      <td>1.000000e+00</td>\n",
       "      <td>1.000000</td>\n",
       "      <td>1.000000e+00</td>\n",
       "      <td>18.000000</td>\n",
       "      <td>6.000000</td>\n",
       "    </tr>\n",
       "  </tbody>\n",
       "</table>\n",
       "</div>"
      ],
      "text/plain": [
       "       sentiment_cosine_distance  sentiment_difference_distance  \\\n",
       "count               6.411000e+04                   64110.000000   \n",
       "mean                4.795703e-02                       0.148097   \n",
       "std                 6.939578e-02                       0.125500   \n",
       "min                -2.220446e-16                       0.000000   \n",
       "25%                 5.893729e-03                       0.044000   \n",
       "50%                 2.326926e-02                       0.128000   \n",
       "75%                 6.095794e-02                       0.221000   \n",
       "max                 1.000000e+00                       1.000000   \n",
       "\n",
       "       tfidf_distance  common_word_count     fdw_count  \n",
       "count    6.411000e+04       64110.000000  64110.000000  \n",
       "mean     8.371937e-01           2.174481      0.435813  \n",
       "std      1.787317e-01           2.192545      0.667794  \n",
       "min     -2.220446e-16           0.000000      0.000000  \n",
       "25%      7.565263e-01           0.000000      0.000000  \n",
       "50%      8.850488e-01           2.000000      0.000000  \n",
       "75%      1.000000e+00           3.000000      1.000000  \n",
       "max      1.000000e+00          18.000000      6.000000  "
      ]
     },
     "execution_count": 21,
     "metadata": {},
     "output_type": "execute_result"
    }
   ],
   "source": [
    "# preprocess the df\n",
    "train_df = preprocess_input(df, 'train-preprocessed-titles.csv', run_pt=True)\n",
    "train_df['label'] = df['label'].replace({'agreed': 0, 'disagreed': 1, 'unrelated': 2}).reset_index(drop=True)\n",
    "\n",
    "train_df.to_csv('train-transformed.csv', index=False)\n",
    "train_df.describe()"
   ]
  },
  {
   "cell_type": "markdown",
   "metadata": {},
   "source": [
    "## Creating the Classification Model\n",
    "### Creating a Decision Tree"
   ]
  },
  {
   "cell_type": "code",
   "execution_count": 27,
   "metadata": {},
   "outputs": [
    {
     "name": "stdout",
     "output_type": "stream",
     "text": [
      "Train accuracy: 0.9739263411465658\n",
      "Train accuracy: 0.9726835206088287\n",
      "Train accuracy: 0.9728574131943557\n",
      "Train accuracy: 0.9724840555842535\n",
      "Train accuracy: 0.970668562427119\n",
      "Accuracy scores: [0.6961396043452466, 0.7009471982979072, 0.686974489065281, 0.7025633681798654, 0.7166939443535189]\n",
      "Average accuracy: 0.7006637208483638\n"
     ]
    }
   ],
   "source": [
    "train_df = pd.read_csv(\"train-transformed.csv\")\n",
    "X = train_df.iloc[:, :-1].values\n",
    "y = train_df.iloc[:, -1].values\n",
    "\n",
    "kf = KFold(n_splits=5)\n",
    "accuracy_scores = []\n",
    "\n",
    "for train_index, test_index in kf.split(X):\n",
    "    X_train, X_test = X[train_index], X[test_index]\n",
    "    y_train, y_test = y[train_index], y[test_index]\n",
    "\n",
    "    tree = DecisionTreeClassifier()\n",
    "    tree.fit(X_train, y_train)\n",
    "    \n",
    "    train_pred = tree.predict(X_train)\n",
    "    train_accuracy = accuracy_score(y_train, train_pred)\n",
    "    print(\"Train accuracy:\", train_accuracy)\n",
    "\n",
    "    y_pred = tree.predict(X_test)\n",
    "    accuracy = accuracy_score(y_test, y_pred)\n",
    "    accuracy_scores.append(accuracy)\n",
    "\n",
    "print(\"Accuracy scores:\", accuracy_scores)\n",
    "print(\"Average accuracy:\", np.mean(accuracy_scores))"
   ]
  },
  {
   "cell_type": "code",
   "execution_count": 28,
   "metadata": {},
   "outputs": [
    {
     "name": "stdout",
     "output_type": "stream",
     "text": [
      "Accuracy: 0.970668562427119\n"
     ]
    },
    {
     "data": {
      "text/plain": [
       "<sklearn.metrics._plot.confusion_matrix.ConfusionMatrixDisplay at 0x24558bc19d0>"
      ]
     },
     "execution_count": 28,
     "metadata": {},
     "output_type": "execute_result"
    },
    {
     "data": {
      "image/png": "[encoded data removed]",
      "text/plain": [
       "<Figure size 432x288 with 2 Axes>"
      ]
     },
     "metadata": {
      "needs_background": "light"
     },
     "output_type": "display_data"
    }
   ],
   "source": [
    "y_pred = tree.predict(X_train)\n",
    "\n",
    "accuracy = accuracy_score(y_train, y_pred)\n",
    "print(\"Accuracy:\", accuracy)\n",
    "\n",
    "conf_mat = confusion_matrix(y_train, y_pred)\n",
    "\n",
    "# plot the confusion matrix\n",
    "disp = ConfusionMatrixDisplay(confusion_matrix=conf_mat)\n",
    "disp.plot()"
   ]
  },
  {
   "cell_type": "code",
   "execution_count": 29,
   "metadata": {},
   "outputs": [
    {
     "name": "stdout",
     "output_type": "stream",
     "text": [
      "Accuracy: 0.7166939443535189\n"
     ]
    },
    {
     "data": {
      "text/plain": [
       "<sklearn.metrics._plot.confusion_matrix.ConfusionMatrixDisplay at 0x24559676d60>"
      ]
     },
     "execution_count": 29,
     "metadata": {},
     "output_type": "execute_result"
    },
    {
     "data": {
      "image/png": "[encoded data removed]",
      "text/plain": [
       "<Figure size 432x288 with 2 Axes>"
      ]
     },
     "metadata": {
      "needs_background": "light"
     },
     "output_type": "display_data"
    }
   ],
   "source": [
    "y_pred = tree.predict(X_test)\n",
    "\n",
    "accuracy = accuracy_score(y_test, y_pred)\n",
    "print(\"Accuracy:\", accuracy)\n",
    "\n",
    "conf_mat = confusion_matrix(y_test, y_pred)\n",
    "\n",
    "# plot the confusion matrix\n",
    "disp = ConfusionMatrixDisplay(confusion_matrix=conf_mat)\n",
    "disp.plot()"
   ]
  },
  {
   "cell_type": "markdown",
   "metadata": {},
   "source": [
    "#### Analysis\n",
    "- The accuracy is very high for the train set but not as high for the validation set\n",
    "- This indicates there may overfitting occuring on the tree\n",
    "- However, when we look at the accuracy through the k-folds validation, the training and validation are consistent through each fold\n",
    "- We can use ensemble learning and try using a **random forest** to improve accuracy and reduce variance"
   ]
  },
  {
   "cell_type": "markdown",
   "metadata": {},
   "source": [
    "### Creating a Random Forest\n",
    "#### How Many Trees do we Use in our Forest?\n",
    "- To determine how many trees to use, we will train multiple forests; we will train between 10 and 100 `n_estimators`\n",
    "- Next we will graph to see which forest performed best by looking at the plateau"
   ]
  },
  {
   "cell_type": "code",
   "execution_count": 60,
   "metadata": {},
   "outputs": [
    {
     "name": "stdout",
     "output_type": "stream",
     "text": [
      "Best parameters: {'n_estimators': 90}\n",
      "Best score: 0.7491571921334323\n"
     ]
    }
   ],
   "source": [
    "# load the preprocessed data\n",
    "train_df = pd.read_csv(\"train-transformed.csv\")\n",
    "\n",
    "X = train_df.iloc[:, :-1].values\n",
    "y = train_df.iloc[:, -1].values\n",
    "\n",
    "# we will forests with 10 to 100 trees\n",
    "param_grid = {'n_estimators': list(range(10, 101, 10))}\n",
    "\n",
    "rf = RandomForestClassifier()\n",
    "\n",
    "grid_search = GridSearchCV(rf, param_grid=param_grid, cv=5)\n",
    "\n",
    "grid_search.fit(X, y)"
   ]
  },
  {
   "cell_type": "code",
   "execution_count": 61,
   "metadata": {
    "scrolled": true
   },
   "outputs": [
    {
     "data": {
      "image/png": "[encoded data removed]",
      "text/plain": [
       "<Figure size 432x288 with 1 Axes>"
      ]
     },
     "metadata": {
      "needs_background": "light"
     },
     "output_type": "display_data"
    }
   ],
   "source": [
    "# get the results of the grid search\n",
    "results = grid_search.cv_results_\n",
    "\n",
    "# extract the mean test scores and the values of n_estimators\n",
    "mean_scores = results['mean_test_score']\n",
    "n_estimators = param_grid['n_estimators']\n",
    "\n",
    "# create a line plot of the mean test scores versus n_estimators\n",
    "plt.plot(n_estimators, mean_scores, marker='o')\n",
    "plt.xlabel('Number of estimators')\n",
    "plt.ylabel('Average accuracy')\n",
    "plt.title('Random Forest Classifier Performance')\n",
    "plt.show()"
   ]
  },
  {
   "cell_type": "markdown",
   "metadata": {},
   "source": [
    "#### Analysis\n",
    "- It looks like the accuracy plateaus at 50 `n_estimators` so we will train our forest with 50 trees"
   ]
  },
  {
   "cell_type": "code",
   "execution_count": 99,
   "metadata": {},
   "outputs": [
    {
     "name": "stdout",
     "output_type": "stream",
     "text": [
      "Train accuracy: 0.9423034630196959\n",
      "Train accuracy: 0.9434286503378119\n",
      "Train accuracy: 0.9430399492642809\n",
      "Train accuracy: 0.942958117459327\n",
      "Train accuracy: 0.9430658128925349\n",
      "Accuracy scores: [0.7364006464679528, 0.7354595855240278, 0.7336797528692129, 0.7316748839017205, 0.7328150572831423]\n",
      "Average accuracy: 0.7340059852092112\n"
     ]
    }
   ],
   "source": [
    "train_df = pd.read_csv(\"train-transformed.csv\")\n",
    "\n",
    "# Shuffle the entries\n",
    "train_df = train_df.sample(frac=1).reset_index(drop=True)\n",
    "\n",
    "X = train_df.iloc[:, :-1].values\n",
    "y = train_df.iloc[:, -1].values\n",
    "\n",
    "kf = KFold(n_splits=5)\n",
    "accuracy_scores = []\n",
    "\n",
    "for train_index, test_index in kf.split(X):\n",
    "    X_train, X_test = X[train_index], X[test_index]\n",
    "    y_train, y_test = y[train_index], y[test_index]\n",
    "\n",
    "    rf = RandomForestClassifier(n_estimators=50, max_depth=25, class_weight='balanced')\n",
    "    rf.fit(X_train, y_train)\n",
    "\n",
    "    train_pred = rf.predict(X_train)\n",
    "    train_accuracy = accuracy_score(y_train, train_pred)\n",
    "    print(\"Train accuracy:\", train_accuracy)\n",
    "\n",
    "    y_pred = rf.predict(X_test)\n",
    "    accuracy = accuracy_score(y_test, y_pred)\n",
    "    accuracy_scores.append(accuracy)\n",
    "\n",
    "print(\"Accuracy scores:\", accuracy_scores)\n",
    "print(\"Average accuracy:\", np.mean(accuracy_scores))"
   ]
  },
  {
   "cell_type": "code",
   "execution_count": 100,
   "metadata": {},
   "outputs": [
    {
     "name": "stdout",
     "output_type": "stream",
     "text": [
      "Accuracy: 0.9430658128925349\n"
     ]
    },
    {
     "data": {
      "text/plain": [
       "<sklearn.metrics._plot.confusion_matrix.ConfusionMatrixDisplay at 0x24500221430>"
      ]
     },
     "execution_count": 100,
     "metadata": {},
     "output_type": "execute_result"
    },
    {
     "data": {
      "image/png": "[encoded data removed]",
      "text/plain": [
       "<Figure size 432x288 with 2 Axes>"
      ]
     },
     "metadata": {
      "needs_background": "light"
     },
     "output_type": "display_data"
    }
   ],
   "source": [
    "y_pred = rf.predict(X_train)\n",
    "\n",
    "accuracy = accuracy_score(y_train, y_pred)\n",
    "print(\"Accuracy:\", accuracy)\n",
    "\n",
    "conf_mat = confusion_matrix(y_train, y_pred)\n",
    "\n",
    "# plot the confusion matrix\n",
    "disp = ConfusionMatrixDisplay(confusion_matrix=conf_mat)\n",
    "disp.plot()"
   ]
  },
  {
   "cell_type": "code",
   "execution_count": 101,
   "metadata": {
    "scrolled": false
   },
   "outputs": [
    {
     "name": "stdout",
     "output_type": "stream",
     "text": [
      "Accuracy: 0.7328150572831423\n"
     ]
    },
    {
     "data": {
      "text/plain": [
       "<sklearn.metrics._plot.confusion_matrix.ConfusionMatrixDisplay at 0x24500a16ee0>"
      ]
     },
     "execution_count": 101,
     "metadata": {},
     "output_type": "execute_result"
    },
    {
     "data": {
      "image/png": "[encoded data removed]",
      "text/plain": [
       "<Figure size 432x288 with 2 Axes>"
      ]
     },
     "metadata": {
      "needs_background": "light"
     },
     "output_type": "display_data"
    }
   ],
   "source": [
    "y_pred = rf.predict(X_test)\n",
    "\n",
    "accuracy = accuracy_score(y_test, y_pred)\n",
    "print(\"Accuracy:\", accuracy)\n",
    "\n",
    "conf_mat = confusion_matrix(y_test, y_pred)\n",
    "\n",
    "# plot the confusion matrix\n",
    "disp = ConfusionMatrixDisplay(confusion_matrix=conf_mat)\n",
    "disp.plot()"
   ]
  },
  {
   "cell_type": "code",
   "execution_count": 102,
   "metadata": {},
   "outputs": [
    {
     "name": "stdout",
     "output_type": "stream",
     "text": [
      "Class 0: 57.02% correct\n",
      "Class 1: 6.64% correct\n",
      "Class 2: 82.66% correct\n"
     ]
    }
   ],
   "source": [
    "# Calculate the percentage of correct predictions for each class\n",
    "n_classes = len(conf_mat)\n",
    "class_acc = np.zeros(n_classes)\n",
    "for i in range(n_classes):\n",
    "    class_acc[i] = conf_mat[i,i] / np.sum(conf_mat[i,:])\n",
    "\n",
    "# Print the results\n",
    "for i in range(n_classes):\n",
    "    print(\"Class {}: {:.2%} correct\".format(i, class_acc[i]))"
   ]
  },
  {
   "cell_type": "markdown",
   "metadata": {},
   "source": [
    "#### Analysis\n",
    "- Looking at the k-folds accuracy on the train sets, it is also consistent for both the training and validation accuracies\n",
    "- The accuracy improved from 71% to about 73% on the validation set which is slightly better"
   ]
  },
  {
   "cell_type": "markdown",
   "metadata": {},
   "source": [
    "## Creating Submission File"
   ]
  },
  {
   "cell_type": "code",
   "execution_count": 25,
   "metadata": {},
   "outputs": [
    {
     "name": "stdout",
     "output_type": "stream",
     "text": [
      "5/5: 64110\n"
     ]
    },
    {
     "data": {
      "text/html": [
       "<div>\n",
       "<style scoped>\n",
       "    .dataframe tbody tr th:only-of-type {\n",
       "        vertical-align: middle;\n",
       "    }\n",
       "\n",
       "    .dataframe tbody tr th {\n",
       "        vertical-align: top;\n",
       "    }\n",
       "\n",
       "    .dataframe thead th {\n",
       "        text-align: right;\n",
       "    }\n",
       "</style>\n",
       "<table border=\"1\" class=\"dataframe\">\n",
       "  <thead>\n",
       "    <tr style=\"text-align: right;\">\n",
       "      <th></th>\n",
       "      <th>sentiment_cosine_distance</th>\n",
       "      <th>sentiment_difference_distance</th>\n",
       "      <th>tfidf_distance</th>\n",
       "      <th>common_word_count</th>\n",
       "      <th>fdw_count</th>\n",
       "    </tr>\n",
       "  </thead>\n",
       "  <tbody>\n",
       "    <tr>\n",
       "      <th>count</th>\n",
       "      <td>6.411000e+04</td>\n",
       "      <td>64110.000000</td>\n",
       "      <td>6.411000e+04</td>\n",
       "      <td>64110.000000</td>\n",
       "      <td>64110.000000</td>\n",
       "    </tr>\n",
       "    <tr>\n",
       "      <th>mean</th>\n",
       "      <td>4.795703e-02</td>\n",
       "      <td>0.148097</td>\n",
       "      <td>8.371937e-01</td>\n",
       "      <td>2.174481</td>\n",
       "      <td>0.435813</td>\n",
       "    </tr>\n",
       "    <tr>\n",
       "      <th>std</th>\n",
       "      <td>6.939578e-02</td>\n",
       "      <td>0.125500</td>\n",
       "      <td>1.787317e-01</td>\n",
       "      <td>2.192545</td>\n",
       "      <td>0.667794</td>\n",
       "    </tr>\n",
       "    <tr>\n",
       "      <th>min</th>\n",
       "      <td>-2.220446e-16</td>\n",
       "      <td>0.000000</td>\n",
       "      <td>-2.220446e-16</td>\n",
       "      <td>0.000000</td>\n",
       "      <td>0.000000</td>\n",
       "    </tr>\n",
       "    <tr>\n",
       "      <th>25%</th>\n",
       "      <td>5.893729e-03</td>\n",
       "      <td>0.044000</td>\n",
       "      <td>7.565263e-01</td>\n",
       "      <td>0.000000</td>\n",
       "      <td>0.000000</td>\n",
       "    </tr>\n",
       "    <tr>\n",
       "      <th>50%</th>\n",
       "      <td>2.326926e-02</td>\n",
       "      <td>0.128000</td>\n",
       "      <td>8.850488e-01</td>\n",
       "      <td>2.000000</td>\n",
       "      <td>0.000000</td>\n",
       "    </tr>\n",
       "    <tr>\n",
       "      <th>75%</th>\n",
       "      <td>6.095794e-02</td>\n",
       "      <td>0.221000</td>\n",
       "      <td>1.000000e+00</td>\n",
       "      <td>3.000000</td>\n",
       "      <td>1.000000</td>\n",
       "    </tr>\n",
       "    <tr>\n",
       "      <th>max</th>\n",
       "      <td>1.000000e+00</td>\n",
       "      <td>1.000000</td>\n",
       "      <td>1.000000e+00</td>\n",
       "      <td>18.000000</td>\n",
       "      <td>6.000000</td>\n",
       "    </tr>\n",
       "  </tbody>\n",
       "</table>\n",
       "</div>"
      ],
      "text/plain": [
       "       sentiment_cosine_distance  sentiment_difference_distance  \\\n",
       "count               6.411000e+04                   64110.000000   \n",
       "mean                4.795703e-02                       0.148097   \n",
       "std                 6.939578e-02                       0.125500   \n",
       "min                -2.220446e-16                       0.000000   \n",
       "25%                 5.893729e-03                       0.044000   \n",
       "50%                 2.326926e-02                       0.128000   \n",
       "75%                 6.095794e-02                       0.221000   \n",
       "max                 1.000000e+00                       1.000000   \n",
       "\n",
       "       tfidf_distance  common_word_count     fdw_count  \n",
       "count    6.411000e+04       64110.000000  64110.000000  \n",
       "mean     8.371937e-01           2.174481      0.435813  \n",
       "std      1.787317e-01           2.192545      0.667794  \n",
       "min     -2.220446e-16           0.000000      0.000000  \n",
       "25%      7.565263e-01           0.000000      0.000000  \n",
       "50%      8.850488e-01           2.000000      0.000000  \n",
       "75%      1.000000e+00           3.000000      1.000000  \n",
       "max      1.000000e+00          18.000000      6.000000  "
      ]
     },
     "execution_count": 25,
     "metadata": {},
     "output_type": "execute_result"
    }
   ],
   "source": [
    "# load the df\n",
    "df = pd.read_csv('test.csv')\n",
    "\n",
    "# preprocess the df\n",
    "test_df = preprocess_input(df, 'test-preprocessed-titles.csv', run_pt=True)\n",
    "\n",
    "test_df.to_csv('test-transformed.csv', index=False)\n",
    "test_df.describe()"
   ]
  },
  {
   "cell_type": "code",
   "execution_count": 73,
   "metadata": {},
   "outputs": [
    {
     "name": "stderr",
     "output_type": "stream",
     "text": [
      "C:\\Users\\Yousef\\anaconda3\\lib\\site-packages\\sklearn\\base.py:432: UserWarning: X has feature names, but RandomForestClassifier was fitted without feature names\n",
      "  warnings.warn(\n"
     ]
    },
    {
     "data": {
      "text/html": [
       "<div>\n",
       "<style scoped>\n",
       "    .dataframe tbody tr th:only-of-type {\n",
       "        vertical-align: middle;\n",
       "    }\n",
       "\n",
       "    .dataframe tbody tr th {\n",
       "        vertical-align: top;\n",
       "    }\n",
       "\n",
       "    .dataframe thead th {\n",
       "        text-align: right;\n",
       "    }\n",
       "</style>\n",
       "<table border=\"1\" class=\"dataframe\">\n",
       "  <thead>\n",
       "    <tr style=\"text-align: right;\">\n",
       "      <th></th>\n",
       "      <th>id</th>\n",
       "    </tr>\n",
       "  </thead>\n",
       "  <tbody>\n",
       "    <tr>\n",
       "      <th>count</th>\n",
       "      <td>64110.000000</td>\n",
       "    </tr>\n",
       "    <tr>\n",
       "      <th>mean</th>\n",
       "      <td>288496.500000</td>\n",
       "    </tr>\n",
       "    <tr>\n",
       "      <th>std</th>\n",
       "      <td>18507.107216</td>\n",
       "    </tr>\n",
       "    <tr>\n",
       "      <th>min</th>\n",
       "      <td>256442.000000</td>\n",
       "    </tr>\n",
       "    <tr>\n",
       "      <th>25%</th>\n",
       "      <td>272469.250000</td>\n",
       "    </tr>\n",
       "    <tr>\n",
       "      <th>50%</th>\n",
       "      <td>288496.500000</td>\n",
       "    </tr>\n",
       "    <tr>\n",
       "      <th>75%</th>\n",
       "      <td>304523.750000</td>\n",
       "    </tr>\n",
       "    <tr>\n",
       "      <th>max</th>\n",
       "      <td>320551.000000</td>\n",
       "    </tr>\n",
       "  </tbody>\n",
       "</table>\n",
       "</div>"
      ],
      "text/plain": [
       "                  id\n",
       "count   64110.000000\n",
       "mean   288496.500000\n",
       "std     18507.107216\n",
       "min    256442.000000\n",
       "25%    272469.250000\n",
       "50%    288496.500000\n",
       "75%    304523.750000\n",
       "max    320551.000000"
      ]
     },
     "execution_count": 73,
     "metadata": {},
     "output_type": "execute_result"
    }
   ],
   "source": [
    "df = pd.read_csv('test.csv')\n",
    "test_df = pd.read_csv('test-transformed.csv')\n",
    "y_pred = rf.predict(test_df)\n",
    "submission = pd.DataFrame({'id': df['id'], 'label': y_pred})\n",
    "submission['label'] = submission['label'].replace({0: 'agreed', 1: 'disagreed', 2: 'unrelated'})\n",
    "submission.to_csv('submission.csv', index=False)\n",
    "submission.describe()"
   ]
  },
  {
   "cell_type": "code",
   "execution_count": 74,
   "metadata": {},
   "outputs": [
    {
     "name": "stdout",
     "output_type": "stream",
     "text": [
      "unrelated    47587\n",
      "agreed       16068\n",
      "disagreed      455\n",
      "Name: label, dtype: int64\n"
     ]
    }
   ],
   "source": [
    "print(submission['label'].value_counts())"
   ]
  }
 ],
 "metadata": {
  "colab": {
   "provenance": []
  },
  "kernelspec": {
   "display_name": "Python 3",
   "language": "python",
   "name": "python3"
  },
  "language_info": {
   "codemirror_mode": {
    "name": "ipython",
    "version": 3
   },
   "file_extension": ".py",
   "mimetype": "text/x-python",
   "name": "python",
   "nbconvert_exporter": "python",
   "pygments_lexer": "ipython3",
   "version": "3.8.8"
  }
 },
 "nbformat": 4,
 "nbformat_minor": 1
}
