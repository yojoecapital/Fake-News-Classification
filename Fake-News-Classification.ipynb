{
 "cells": [
  {
   "cell_type": "markdown",
   "metadata": {
    "id": "OVpnFsovlhc0"
   },
   "source": [
    "# Fake-News-Classification\n",
    "\n",
    "**Group 20**\n",
    "\n",
    "*Justin Panagakis*\n",
    "\n",
    "*Yousef Suleiman*\n",
    "\n",
    "## Steps\n",
    "\n",
    "1. Preprocess titles by making lowercase, removing punctuation, removing stopwords, and stemming\n",
    "\n",
    "     - stopwords are common english tokens like \"the\" and \"a\"\n",
    "\n",
    "     - stemming is reducing words to their roots\n",
    "\n",
    "2. Vectorize each title pair by using TF-IDF and find the cosine distance between them\n",
    "3. Using `nltk`'s `SentimentIntensityAnalyzer`, create sentiment vectors and calculate the cosine distance between each title pair\n",
    "4. Count the number of common words between the titles pairs\n",
    "5. Count the number of frequently used disagreed words (or `fdw`) in the second title\n",
    "\n",
    "    - `fdw` is a list of the 5 most frequently used words found in \"disagreed\" titles from title 2 found the training data \n",
    "    \n",
    "6. Build a decision tree to classify the title pairs as `agree`, `disagree`, or `unrelated`"
   ]
  },
  {
   "cell_type": "code",
   "execution_count": 1,
   "metadata": {},
   "outputs": [],
   "source": [
    "import string\n",
    "import nltk\n",
    "from nltk.corpus import stopwords\n",
    "from nltk.stem import PorterStemmer\n",
    "import pandas as pd\n",
    "\n",
    "from sklearn.feature_extraction.text import TfidfVectorizer\n",
    "import numpy as np\n",
    "\n",
    "import nltk\n",
    "from nltk.sentiment import SentimentIntensityAnalyzer\n",
    "\n",
    "import os\n",
    "\n",
    "from sklearn.model_selection import train_test_split\n",
    "from sklearn.linear_model import LogisticRegression\n",
    "from sklearn import metrics\n",
    "from sklearn.model_selection import GridSearchCV\n",
    "from sklearn.multioutput import MultiOutputClassifier\n",
    "from sklearn.metrics import f1_score, accuracy_score, precision_score, recall_score, make_scorer\n",
    "\n",
    "from keras.layers import Conv1D, MaxPooling1D, Flatten\n",
    "from sklearn.utils.class_weight import compute_class_weight\n",
    "from keras.utils import to_categorical\n",
    "from keras.models import Sequential\n",
    "from keras.layers import Dense\n",
    "from sklearn.utils import class_weight\n",
    "\n",
    "from IPython.display import display, clear_output"
   ]
  },
  {
   "cell_type": "markdown",
   "metadata": {},
   "source": [
    "### Helper Functions for Preprocessing"
   ]
  },
  {
   "cell_type": "code",
   "execution_count": 2,
   "metadata": {
    "colab": {
     "base_uri": "https://localhost:8080/"
    },
    "id": "IvmGt6k9lfRS",
    "outputId": "967e93e2-ec7c-48d0-d42d-ddd263e7a5e1"
   },
   "outputs": [
    {
     "name": "stderr",
     "output_type": "stream",
     "text": [
      "[nltk_data] Downloading package stopwords to\n",
      "[nltk_data]     C:\\Users\\Yousef\\AppData\\Roaming\\nltk_data...\n",
      "[nltk_data]   Package stopwords is already up-to-date!\n",
      "[nltk_data] Downloading package punkt to\n",
      "[nltk_data]     C:\\Users\\Yousef\\AppData\\Roaming\\nltk_data...\n",
      "[nltk_data]   Package punkt is already up-to-date!\n"
     ]
    }
   ],
   "source": [
    "nltk.download('stopwords')\n",
    "nltk.download('punkt')\n",
    "\n",
    "# preprocess a single title\n",
    "def preprocess_title(title:str):\n",
    "    # convert to lowercase and remove punctuation\n",
    "    title = title.lower()\n",
    "    translator = str.maketrans('', '', string.punctuation)\n",
    "    title = title.translate(translator)\n",
    "    # tokenize\n",
    "    words = nltk.word_tokenize(title)\n",
    "    # remove stopwords\n",
    "    words = [word for word in words if word not in stopwords.words('english')]\n",
    "    # stem the remaining words\n",
    "    stemmer = PorterStemmer()\n",
    "    words = [stemmer.stem(word) for word in words]\n",
    "    # join the stemmed words back into a single string\n",
    "    stemmed_title = ' '.join(words)\n",
    "    return stemmed_title"
   ]
  },
  {
   "cell_type": "code",
   "execution_count": 3,
   "metadata": {},
   "outputs": [],
   "source": [
    "# calculates cosine distance between two vectors a b\n",
    "def cosine_distance(a:list, b:list):\n",
    "    dot_product = np.dot(a, b)\n",
    "    norm_a = np.linalg.norm(a)\n",
    "    norm_b = np.linalg.norm(b)\n",
    "    denom = norm_a * norm_b\n",
    "    if denom == 0:\n",
    "        return 0\n",
    "    return 1 - dot_product / denom"
   ]
  },
  {
   "cell_type": "code",
   "execution_count": 4,
   "metadata": {},
   "outputs": [],
   "source": [
    "vectorizer = TfidfVectorizer(max_features=100)\n",
    "\n",
    "# takes 2 titles and returns 2 TF-IDF vectors with default length 16\n",
    "def tfidf(title1:str, title2:str):\n",
    "    titles = [title1, title2]\n",
    "    title_vectors = list(vectorizer.fit_transform(titles).todense().tolist()) \n",
    "    return tuple(title_vectors)\n",
    "\n",
    "def tfidf_distance(title1:str, title2:str):\n",
    "    tfidf1, tfidf2 = tfidf(title1, title2)\n",
    "    return cosine_distance(tfidf1, tfidf2)"
   ]
  },
  {
   "cell_type": "code",
   "execution_count": 21,
   "metadata": {},
   "outputs": [
    {
     "name": "stderr",
     "output_type": "stream",
     "text": [
      "[nltk_data] Downloading package vader_lexicon to\n",
      "[nltk_data]     C:\\Users\\Yousef\\AppData\\Roaming\\nltk_data...\n",
      "[nltk_data]   Package vader_lexicon is already up-to-date!\n"
     ]
    }
   ],
   "source": [
    "nltk.download('vader_lexicon')\n",
    "\n",
    "sia = SentimentIntensityAnalyzer()\n",
    "\n",
    "# finds the cosine distance between the sentiments of two titles\n",
    "# the first return is the cosine distance, the second is the difference between the compounds\n",
    "def sentiment_distance(title1:str, title2:str):\n",
    "    s1 = list(sia.polarity_scores(title1).values())\n",
    "    s2 = list(sia.polarity_scores(title2).values())\n",
    "    return (cosine_distance(s1[:3], s2[:3]), abs(s1[1] - s2[1]))"
   ]
  },
  {
   "cell_type": "code",
   "execution_count": 6,
   "metadata": {},
   "outputs": [],
   "source": [
    "# compute the intersection of the token sets of two titles\n",
    "def count_common_words(title1:str, title2:str):\n",
    "    tokens1 = set(nltk.word_tokenize(title1.lower()))\n",
    "    tokens2 = set(nltk.word_tokenize(title2.lower()))\n",
    "    common_words = tokens1.intersection(tokens2)\n",
    "    return len(common_words)"
   ]
  },
  {
   "cell_type": "markdown",
   "metadata": {},
   "source": [
    "### Demonstraition of Preprocessing"
   ]
  },
  {
   "cell_type": "code",
   "execution_count": 7,
   "metadata": {
    "colab": {
     "base_uri": "https://localhost:8080/"
    },
    "id": "aPPJvaOtoOJs",
    "outputId": "e69ea469-c845-4b61-b6d0-d877f000d0f4"
   },
   "outputs": [
    {
     "data": {
      "text/html": [
       "<div>\n",
       "<style scoped>\n",
       "    .dataframe tbody tr th:only-of-type {\n",
       "        vertical-align: middle;\n",
       "    }\n",
       "\n",
       "    .dataframe tbody tr th {\n",
       "        vertical-align: top;\n",
       "    }\n",
       "\n",
       "    .dataframe thead th {\n",
       "        text-align: right;\n",
       "    }\n",
       "</style>\n",
       "<table border=\"1\" class=\"dataframe\">\n",
       "  <thead>\n",
       "    <tr style=\"text-align: right;\">\n",
       "      <th></th>\n",
       "      <th>articl</th>\n",
       "      <th>fake</th>\n",
       "      <th>im</th>\n",
       "      <th>news</th>\n",
       "      <th>real</th>\n",
       "      <th>realli</th>\n",
       "      <th>sure</th>\n",
       "      <th>titl</th>\n",
       "    </tr>\n",
       "  </thead>\n",
       "  <tbody>\n",
       "    <tr>\n",
       "      <th>0</th>\n",
       "      <td>0.576152</td>\n",
       "      <td>0.576152</td>\n",
       "      <td>0.000000</td>\n",
       "      <td>0.409937</td>\n",
       "      <td>0.000000</td>\n",
       "      <td>0.000000</td>\n",
       "      <td>0.000000</td>\n",
       "      <td>0.409937</td>\n",
       "    </tr>\n",
       "    <tr>\n",
       "      <th>1</th>\n",
       "      <td>0.000000</td>\n",
       "      <td>0.000000</td>\n",
       "      <td>0.446656</td>\n",
       "      <td>0.317800</td>\n",
       "      <td>0.446656</td>\n",
       "      <td>0.446656</td>\n",
       "      <td>0.446656</td>\n",
       "      <td>0.317800</td>\n",
       "    </tr>\n",
       "  </tbody>\n",
       "</table>\n",
       "</div>"
      ],
      "text/plain": [
       "     articl      fake        im      news      real    realli      sure  \\\n",
       "0  0.576152  0.576152  0.000000  0.409937  0.000000  0.000000  0.000000   \n",
       "1  0.000000  0.000000  0.446656  0.317800  0.446656  0.446656  0.446656   \n",
       "\n",
       "       titl  \n",
       "0  0.409937  \n",
       "1  0.317800  "
      ]
     },
     "execution_count": 7,
     "metadata": {},
     "output_type": "execute_result"
    }
   ],
   "source": [
    "title1 = preprocess_title('I am a title of a fake news article...')\n",
    "title2 = preprocess_title('I\\'m not really sure if this news title is real?')\n",
    "\n",
    "vectorizer.fit_transform([title1, title2])\n",
    "token_labels = vectorizer.get_feature_names_out().tolist()\n",
    "\n",
    "title_vectors = list(tfidf(title1, title2))\n",
    "\n",
    "pd.DataFrame(title_vectors, columns=token_labels)"
   ]
  },
  {
   "cell_type": "code",
   "execution_count": 8,
   "metadata": {},
   "outputs": [
    {
     "data": {
      "text/plain": [
       "0.7394443289437376"
      ]
     },
     "execution_count": 8,
     "metadata": {},
     "output_type": "execute_result"
    }
   ],
   "source": [
    "tfidf_distance(title1, title2)"
   ]
  },
  {
   "cell_type": "code",
   "execution_count": 9,
   "metadata": {},
   "outputs": [
    {
     "data": {
      "text/plain": [
       "0.13084828571329687"
      ]
     },
     "execution_count": 9,
     "metadata": {},
     "output_type": "execute_result"
    }
   ],
   "source": [
    "title1 = 'I am a title of a dumb and fake news article...'\n",
    "title2 = 'I\\'m not really sure if this news title is real but is sure sounds cool?'\n",
    "\n",
    "sentiment_distance(title1, title2)"
   ]
  },
  {
   "cell_type": "code",
   "execution_count": 10,
   "metadata": {},
   "outputs": [
    {
     "data": {
      "text/plain": [
       "5"
      ]
     },
     "execution_count": 10,
     "metadata": {},
     "output_type": "execute_result"
    }
   ],
   "source": [
    "title1 = preprocess_title('I am a title of a evil and fake news article...')\n",
    "title2 = preprocess_title('I\\'m also the title of a perhaps evil and fake news article')\n",
    "\n",
    "count_common_words(title1, title2)"
   ]
  },
  {
   "cell_type": "markdown",
   "metadata": {},
   "source": [
    "### What are the most popular words in \"disagreed\" articles from Title2?"
   ]
  },
  {
   "cell_type": "code",
   "execution_count": 37,
   "metadata": {},
   "outputs": [
    {
     "data": {
      "image/png": "[encoded data removed]",
      "text/plain": [
       "<Figure size 432x288 with 1 Axes>"
      ]
     },
     "metadata": {
      "needs_background": "light"
     },
     "output_type": "display_data"
    },
    {
     "data": {
      "text/plain": [
       "<AxesSubplot:xlabel='Samples', ylabel='Counts'>"
      ]
     },
     "execution_count": 37,
     "metadata": {},
     "output_type": "execute_result"
    }
   ],
   "source": [
    "import pandas as pd\n",
    "import nltk\n",
    "from nltk import FreqDist\n",
    "from nltk.tokenize import word_tokenize\n",
    "\n",
    "# this is the titles that are preprocessed\n",
    "titles_df = pd.read_csv(\"preprocessed-titles.csv\")\n",
    "\n",
    "# select only the rows with a class label of 1 \"disagreed\"\n",
    "titles_df = titles_df[titles_df['label'] == 1]\n",
    "\n",
    "# concatenate the titles of all rows into a single string\n",
    "all_titles = ' '.join(map(str, (titles_df['title2'].tolist())))\n",
    "\n",
    "# tokenize the string into words\n",
    "words = word_tokenize(all_titles)\n",
    "\n",
    "# create a frequency distribution of the words\n",
    "freq_dist = FreqDist(words)\n",
    "\n",
    "# select the ten most common words\n",
    "top_words = freq_dist.most_common(10)\n",
    "\n",
    "# plot a histogram of the selected words\n",
    "freq_dist.plot(10)"
   ]
  },
  {
   "cell_type": "code",
   "execution_count": 84,
   "metadata": {},
   "outputs": [],
   "source": [
    "# this is a list of the \"frequently disagreed words\"\n",
    "fdw = [t[0] for t in top_words[:5]]\n",
    "\n",
    "# returns the count of words in a title that are also in fdw list\n",
    "def fdw_count(title: str):\n",
    "    words = title.split()\n",
    "    count = 0\n",
    "    for word in words:\n",
    "        if word in fdw:\n",
    "            count += 1\n",
    "    return count"
   ]
  },
  {
   "cell_type": "markdown",
   "metadata": {
    "id": "9CMkiYEEmvbT"
   },
   "source": [
    "## Preprocessing"
   ]
  },
  {
   "cell_type": "code",
   "execution_count": 62,
   "metadata": {
    "colab": {
     "base_uri": "https://localhost:8080/",
     "height": 224
    },
    "id": "YDwUOgx89e8q",
    "outputId": "badbd794-ec92-4f72-a8f2-477ea9e6684c"
   },
   "outputs": [
    {
     "data": {
      "text/html": [
       "<div>\n",
       "<style scoped>\n",
       "    .dataframe tbody tr th:only-of-type {\n",
       "        vertical-align: middle;\n",
       "    }\n",
       "\n",
       "    .dataframe tbody tr th {\n",
       "        vertical-align: top;\n",
       "    }\n",
       "\n",
       "    .dataframe thead th {\n",
       "        text-align: right;\n",
       "    }\n",
       "</style>\n",
       "<table border=\"1\" class=\"dataframe\">\n",
       "  <thead>\n",
       "    <tr style=\"text-align: right;\">\n",
       "      <th></th>\n",
       "      <th>id</th>\n",
       "      <th>tid1</th>\n",
       "      <th>tid2</th>\n",
       "      <th>title1_en</th>\n",
       "      <th>title2_en</th>\n",
       "      <th>label</th>\n",
       "    </tr>\n",
       "  </thead>\n",
       "  <tbody>\n",
       "    <tr>\n",
       "      <th>0</th>\n",
       "      <td>195611</td>\n",
       "      <td>0</td>\n",
       "      <td>1</td>\n",
       "      <td>There are two new old-age insurance benefits f...</td>\n",
       "      <td>Police disprove \"bird's nest congress each per...</td>\n",
       "      <td>unrelated</td>\n",
       "    </tr>\n",
       "    <tr>\n",
       "      <th>1</th>\n",
       "      <td>191474</td>\n",
       "      <td>2</td>\n",
       "      <td>3</td>\n",
       "      <td>\"If you do not come to Shenzhen, sooner or lat...</td>\n",
       "      <td>Shenzhen's GDP outstrips Hong Kong? Shenzhen S...</td>\n",
       "      <td>unrelated</td>\n",
       "    </tr>\n",
       "    <tr>\n",
       "      <th>2</th>\n",
       "      <td>25300</td>\n",
       "      <td>2</td>\n",
       "      <td>4</td>\n",
       "      <td>\"If you do not come to Shenzhen, sooner or lat...</td>\n",
       "      <td>The GDP overtopped Hong Kong? Shenzhen clarifi...</td>\n",
       "      <td>unrelated</td>\n",
       "    </tr>\n",
       "    <tr>\n",
       "      <th>3</th>\n",
       "      <td>123757</td>\n",
       "      <td>2</td>\n",
       "      <td>8</td>\n",
       "      <td>\"If you do not come to Shenzhen, sooner or lat...</td>\n",
       "      <td>Shenzhen's GDP overtakes Hong Kong? Bureau of ...</td>\n",
       "      <td>unrelated</td>\n",
       "    </tr>\n",
       "    <tr>\n",
       "      <th>4</th>\n",
       "      <td>141761</td>\n",
       "      <td>2</td>\n",
       "      <td>11</td>\n",
       "      <td>\"If you do not come to Shenzhen, sooner or lat...</td>\n",
       "      <td>Shenzhen's GDP outpaces Hong Kong? Defending R...</td>\n",
       "      <td>unrelated</td>\n",
       "    </tr>\n",
       "  </tbody>\n",
       "</table>\n",
       "</div>"
      ],
      "text/plain": [
       "       id  tid1  tid2                                          title1_en  \\\n",
       "0  195611     0     1  There are two new old-age insurance benefits f...   \n",
       "1  191474     2     3  \"If you do not come to Shenzhen, sooner or lat...   \n",
       "2   25300     2     4  \"If you do not come to Shenzhen, sooner or lat...   \n",
       "3  123757     2     8  \"If you do not come to Shenzhen, sooner or lat...   \n",
       "4  141761     2    11  \"If you do not come to Shenzhen, sooner or lat...   \n",
       "\n",
       "                                           title2_en      label  \n",
       "0  Police disprove \"bird's nest congress each per...  unrelated  \n",
       "1  Shenzhen's GDP outstrips Hong Kong? Shenzhen S...  unrelated  \n",
       "2  The GDP overtopped Hong Kong? Shenzhen clarifi...  unrelated  \n",
       "3  Shenzhen's GDP overtakes Hong Kong? Bureau of ...  unrelated  \n",
       "4  Shenzhen's GDP outpaces Hong Kong? Defending R...  unrelated  "
      ]
     },
     "execution_count": 62,
     "metadata": {},
     "output_type": "execute_result"
    }
   ],
   "source": [
    "df = pd.read_csv('train.csv')\n",
    "df.head()"
   ]
  },
  {
   "cell_type": "code",
   "execution_count": 22,
   "metadata": {
    "id": "VIhH6El6nJYM"
   },
   "outputs": [
    {
     "data": {
      "text/plain": [
       "256400"
      ]
     },
     "metadata": {},
     "output_type": "display_data"
    }
   ],
   "source": [
    "# calculate sentiment distances between each title pair\n",
    "sentiment_cosine_data = []\n",
    "sentiment_difference_data = []\n",
    "for i, row in df.iterrows():\n",
    "    title1 = row['title1_en']\n",
    "    title2 = row['title2_en']\n",
    "    cosine, difference = sentiment_distance(title1, title2)\n",
    "    sentiment_cosine_data.append(cosine)\n",
    "    sentiment_difference_data.append(difference)\n",
    "    \n",
    "    if i % 100 == 0:\n",
    "        display(i)\n",
    "        clear_output(wait=True)"
   ]
  },
  {
   "cell_type": "code",
   "execution_count": null,
   "metadata": {},
   "outputs": [],
   "source": [
    "# preprocess each title pair\n",
    "titles_df = pd.DataFrame(columns=['title1', 'title2'])\n",
    "\n",
    "for i, row in df.iterrows():\n",
    "    # preprocess the titles in the current row\n",
    "    title1 = preprocess_title(row['title1_en'])\n",
    "    title2 = preprocess_title(row['title2_en'])\n",
    "    \n",
    "    # add the processed titles as a new row to the processed dataframe\n",
    "    titles_df = pd.concat([titles_df, pd.DataFrame({'title1': [title1], 'title2': [title2]})], ignore_index=True)\n",
    "    \n",
    "    if i % 100 == 0:\n",
    "        display(i)\n",
    "        clear_output(wait=True)\n",
    "\n",
    "titles_df['label'] = df['label'].replace({'agreed': 0, 'disagreed': 1, 'unrelated': 2})\n",
    "titles_df.to_csv('preprocessed-titles.csv', index=False)"
   ]
  },
  {
   "cell_type": "code",
   "execution_count": 13,
   "metadata": {},
   "outputs": [
    {
     "data": {
      "text/plain": [
       "256400"
      ]
     },
     "metadata": {},
     "output_type": "display_data"
    }
   ],
   "source": [
    "# calculate the TF-IDF distances for each title pair and common word count\n",
    "titles_df = pd.read_csv(\"preprocessed-titles.csv\")\n",
    "tfidf_data = []\n",
    "common_word_data = []\n",
    "for i, row in titles_df.iterrows():\n",
    "    title1 = str(row['title1'])\n",
    "    title2 = str(row['title2'])\n",
    "    \n",
    "    tfidf_data.append(tfidf_distance(title1, title2))\n",
    "    common_word_data.append(count_common_words(title1, title2))\n",
    "    \n",
    "    if i % 100 == 0:\n",
    "        display(i)\n",
    "        clear_output(wait=True)"
   ]
  },
  {
   "cell_type": "code",
   "execution_count": 85,
   "metadata": {},
   "outputs": [
    {
     "name": "stdout",
     "output_type": "stream",
     "text": [
      "256442\n"
     ]
    }
   ],
   "source": [
    "# calculate the number of words in fdw list\n",
    "titles_df = pd.read_csv(\"preprocessed-titles.csv\")\n",
    "fdw_data = []\n",
    "for title2 in titles_df['title2']:\n",
    "    fdw_data.append(fdw_count(str(title2)))\n",
    "print(len(fdw_data))"
   ]
  },
  {
   "cell_type": "code",
   "execution_count": 88,
   "metadata": {},
   "outputs": [
    {
     "data": {
      "text/html": [
       "<div>\n",
       "<style scoped>\n",
       "    .dataframe tbody tr th:only-of-type {\n",
       "        vertical-align: middle;\n",
       "    }\n",
       "\n",
       "    .dataframe tbody tr th {\n",
       "        vertical-align: top;\n",
       "    }\n",
       "\n",
       "    .dataframe thead th {\n",
       "        text-align: right;\n",
       "    }\n",
       "</style>\n",
       "<table border=\"1\" class=\"dataframe\">\n",
       "  <thead>\n",
       "    <tr style=\"text-align: right;\">\n",
       "      <th></th>\n",
       "      <th>sentiment_cosine_distance</th>\n",
       "      <th>sentiment_difference_distance</th>\n",
       "      <th>tfidf_distance</th>\n",
       "      <th>common_word_count</th>\n",
       "      <th>fdw_count</th>\n",
       "      <th>label</th>\n",
       "    </tr>\n",
       "  </thead>\n",
       "  <tbody>\n",
       "    <tr>\n",
       "      <th>count</th>\n",
       "      <td>2.564420e+05</td>\n",
       "      <td>256442.000000</td>\n",
       "      <td>2.564420e+05</td>\n",
       "      <td>256442.000000</td>\n",
       "      <td>256442.000000</td>\n",
       "      <td>256442.000000</td>\n",
       "    </tr>\n",
       "    <tr>\n",
       "      <th>mean</th>\n",
       "      <td>4.804394e-02</td>\n",
       "      <td>0.148062</td>\n",
       "      <td>8.382615e-01</td>\n",
       "      <td>2.161202</td>\n",
       "      <td>0.369503</td>\n",
       "      <td>1.395255</td>\n",
       "    </tr>\n",
       "    <tr>\n",
       "      <th>std</th>\n",
       "      <td>6.945175e-02</td>\n",
       "      <td>0.124897</td>\n",
       "      <td>1.773720e-01</td>\n",
       "      <td>2.172861</td>\n",
       "      <td>0.636686</td>\n",
       "      <td>0.904443</td>\n",
       "    </tr>\n",
       "    <tr>\n",
       "      <th>min</th>\n",
       "      <td>-2.220446e-16</td>\n",
       "      <td>0.000000</td>\n",
       "      <td>-2.220446e-16</td>\n",
       "      <td>0.000000</td>\n",
       "      <td>0.000000</td>\n",
       "      <td>0.000000</td>\n",
       "    </tr>\n",
       "    <tr>\n",
       "      <th>25%</th>\n",
       "      <td>5.850390e-03</td>\n",
       "      <td>0.044000</td>\n",
       "      <td>7.576423e-01</td>\n",
       "      <td>0.000000</td>\n",
       "      <td>0.000000</td>\n",
       "      <td>0.000000</td>\n",
       "    </tr>\n",
       "    <tr>\n",
       "      <th>50%</th>\n",
       "      <td>2.329156e-02</td>\n",
       "      <td>0.128000</td>\n",
       "      <td>8.869592e-01</td>\n",
       "      <td>2.000000</td>\n",
       "      <td>0.000000</td>\n",
       "      <td>2.000000</td>\n",
       "    </tr>\n",
       "    <tr>\n",
       "      <th>75%</th>\n",
       "      <td>6.106984e-02</td>\n",
       "      <td>0.221000</td>\n",
       "      <td>1.000000e+00</td>\n",
       "      <td>3.000000</td>\n",
       "      <td>1.000000</td>\n",
       "      <td>2.000000</td>\n",
       "    </tr>\n",
       "    <tr>\n",
       "      <th>max</th>\n",
       "      <td>1.000000e+00</td>\n",
       "      <td>1.000000</td>\n",
       "      <td>1.000000e+00</td>\n",
       "      <td>18.000000</td>\n",
       "      <td>11.000000</td>\n",
       "      <td>2.000000</td>\n",
       "    </tr>\n",
       "  </tbody>\n",
       "</table>\n",
       "</div>"
      ],
      "text/plain": [
       "       sentiment_cosine_distance  sentiment_difference_distance  \\\n",
       "count               2.564420e+05                  256442.000000   \n",
       "mean                4.804394e-02                       0.148062   \n",
       "std                 6.945175e-02                       0.124897   \n",
       "min                -2.220446e-16                       0.000000   \n",
       "25%                 5.850390e-03                       0.044000   \n",
       "50%                 2.329156e-02                       0.128000   \n",
       "75%                 6.106984e-02                       0.221000   \n",
       "max                 1.000000e+00                       1.000000   \n",
       "\n",
       "       tfidf_distance  common_word_count      fdw_count          label  \n",
       "count    2.564420e+05      256442.000000  256442.000000  256442.000000  \n",
       "mean     8.382615e-01           2.161202       0.369503       1.395255  \n",
       "std      1.773720e-01           2.172861       0.636686       0.904443  \n",
       "min     -2.220446e-16           0.000000       0.000000       0.000000  \n",
       "25%      7.576423e-01           0.000000       0.000000       0.000000  \n",
       "50%      8.869592e-01           2.000000       0.000000       2.000000  \n",
       "75%      1.000000e+00           3.000000       1.000000       2.000000  \n",
       "max      1.000000e+00          18.000000      11.000000       2.000000  "
      ]
     },
     "execution_count": 88,
     "metadata": {},
     "output_type": "execute_result"
    }
   ],
   "source": [
    "labels = df['label'].replace({'agreed': 0, 'disagreed': 1, 'unrelated': 2})\n",
    "\n",
    "train_df = pd.DataFrame()\n",
    "train_df['sentiment_cosine_distance'] = sentiment_cosine_data\n",
    "train_df['sentiment_difference_distance'] = sentiment_difference_data\n",
    "train_df['tfidf_distance'] = tfidf_data\n",
    "train_df['common_word_count'] = common_word_data\n",
    "train_df['fdw_count'] = fdw_data\n",
    "train_df['label'] = labels\n",
    "\n",
    "train_df.to_csv('train-transformed.csv', index=False)\n",
    "train_df.describe()"
   ]
  },
  {
   "cell_type": "markdown",
   "metadata": {},
   "source": [
    "# (Attempted) Training"
   ]
  },
  {
   "cell_type": "code",
   "execution_count": 90,
   "metadata": {},
   "outputs": [
    {
     "data": {
      "text/html": [
       "<style>#sk-container-id-2 {color: black;background-color: white;}#sk-container-id-2 pre{padding: 0;}#sk-container-id-2 div.sk-toggleable {background-color: white;}#sk-container-id-2 label.sk-toggleable__label {cursor: pointer;display: block;width: 100%;margin-bottom: 0;padding: 0.3em;box-sizing: border-box;text-align: center;}#sk-container-id-2 label.sk-toggleable__label-arrow:before {content: \"▸\";float: left;margin-right: 0.25em;color: #696969;}#sk-container-id-2 label.sk-toggleable__label-arrow:hover:before {color: black;}#sk-container-id-2 div.sk-estimator:hover label.sk-toggleable__label-arrow:before {color: black;}#sk-container-id-2 div.sk-toggleable__content {max-height: 0;max-width: 0;overflow: hidden;text-align: left;background-color: #f0f8ff;}#sk-container-id-2 div.sk-toggleable__content pre {margin: 0.2em;color: black;border-radius: 0.25em;background-color: #f0f8ff;}#sk-container-id-2 input.sk-toggleable__control:checked~div.sk-toggleable__content {max-height: 200px;max-width: 100%;overflow: auto;}#sk-container-id-2 input.sk-toggleable__control:checked~label.sk-toggleable__label-arrow:before {content: \"▾\";}#sk-container-id-2 div.sk-estimator input.sk-toggleable__control:checked~label.sk-toggleable__label {background-color: #d4ebff;}#sk-container-id-2 div.sk-label input.sk-toggleable__control:checked~label.sk-toggleable__label {background-color: #d4ebff;}#sk-container-id-2 input.sk-hidden--visually {border: 0;clip: rect(1px 1px 1px 1px);clip: rect(1px, 1px, 1px, 1px);height: 1px;margin: -1px;overflow: hidden;padding: 0;position: absolute;width: 1px;}#sk-container-id-2 div.sk-estimator {font-family: monospace;background-color: #f0f8ff;border: 1px dotted black;border-radius: 0.25em;box-sizing: border-box;margin-bottom: 0.5em;}#sk-container-id-2 div.sk-estimator:hover {background-color: #d4ebff;}#sk-container-id-2 div.sk-parallel-item::after {content: \"\";width: 100%;border-bottom: 1px solid gray;flex-grow: 1;}#sk-container-id-2 div.sk-label:hover label.sk-toggleable__label {background-color: #d4ebff;}#sk-container-id-2 div.sk-serial::before {content: \"\";position: absolute;border-left: 1px solid gray;box-sizing: border-box;top: 0;bottom: 0;left: 50%;z-index: 0;}#sk-container-id-2 div.sk-serial {display: flex;flex-direction: column;align-items: center;background-color: white;padding-right: 0.2em;padding-left: 0.2em;position: relative;}#sk-container-id-2 div.sk-item {position: relative;z-index: 1;}#sk-container-id-2 div.sk-parallel {display: flex;align-items: stretch;justify-content: center;background-color: white;position: relative;}#sk-container-id-2 div.sk-item::before, #sk-container-id-2 div.sk-parallel-item::before {content: \"\";position: absolute;border-left: 1px solid gray;box-sizing: border-box;top: 0;bottom: 0;left: 50%;z-index: -1;}#sk-container-id-2 div.sk-parallel-item {display: flex;flex-direction: column;z-index: 1;position: relative;background-color: white;}#sk-container-id-2 div.sk-parallel-item:first-child::after {align-self: flex-end;width: 50%;}#sk-container-id-2 div.sk-parallel-item:last-child::after {align-self: flex-start;width: 50%;}#sk-container-id-2 div.sk-parallel-item:only-child::after {width: 0;}#sk-container-id-2 div.sk-dashed-wrapped {border: 1px dashed gray;margin: 0 0.4em 0.5em 0.4em;box-sizing: border-box;padding-bottom: 0.4em;background-color: white;}#sk-container-id-2 div.sk-label label {font-family: monospace;font-weight: bold;display: inline-block;line-height: 1.2em;}#sk-container-id-2 div.sk-label-container {text-align: center;}#sk-container-id-2 div.sk-container {/* jupyter's `normalize.less` sets `[hidden] { display: none; }` but bootstrap.min.css set `[hidden] { display: none !important; }` so we also need the `!important` here to be able to override the default hidden behavior on the sphinx rendered scikit-learn.org. See: https://github.com/scikit-learn/scikit-learn/issues/21755 */display: inline-block !important;position: relative;}#sk-container-id-2 div.sk-text-repr-fallback {display: none;}</style><div id=\"sk-container-id-2\" class=\"sk-top-container\"><div class=\"sk-text-repr-fallback\"><pre>DecisionTreeClassifier()</pre><b>In a Jupyter environment, please rerun this cell to show the HTML representation or trust the notebook. <br />On GitHub, the HTML representation is unable to render, please try loading this page with nbviewer.org.</b></div><div class=\"sk-container\" hidden><div class=\"sk-item\"><div class=\"sk-estimator sk-toggleable\"><input class=\"sk-toggleable__control sk-hidden--visually\" id=\"sk-estimator-id-2\" type=\"checkbox\" checked><label for=\"sk-estimator-id-2\" class=\"sk-toggleable__label sk-toggleable__label-arrow\">DecisionTreeClassifier</label><div class=\"sk-toggleable__content\"><pre>DecisionTreeClassifier()</pre></div></div></div></div></div>"
      ],
      "text/plain": [
       "DecisionTreeClassifier()"
      ]
     },
     "execution_count": 90,
     "metadata": {},
     "output_type": "execute_result"
    }
   ],
   "source": [
    "from sklearn.tree import DecisionTreeClassifier\n",
    "from sklearn.model_selection import train_test_split\n",
    "from sklearn.metrics import accuracy_score\n",
    "\n",
    "train_df = pd.read_csv(\"train-transformed.csv\")\n",
    "X = train_df.iloc[:, :-1].values\n",
    "y = train_df.iloc[:, -1].values\n",
    "\n",
    "X_train, X_test, y_train, y_test = train_test_split(X, y, test_size=0.2)\n",
    "\n",
    "tree = DecisionTreeClassifier()\n",
    "tree.fit(X_train, y_train)"
   ]
  },
  {
   "cell_type": "code",
   "execution_count": 91,
   "metadata": {},
   "outputs": [
    {
     "name": "stdout",
     "output_type": "stream",
     "text": [
      "Accuracy: 0.9698468947565962\n"
     ]
    },
    {
     "data": {
      "text/plain": [
       "<sklearn.metrics._plot.confusion_matrix.ConfusionMatrixDisplay at 0x1ff98b4db50>"
      ]
     },
     "execution_count": 91,
     "metadata": {},
     "output_type": "execute_result"
    },
    {
     "data": {
      "image/png": "[encoded data removed]",
      "text/plain": [
       "<Figure size 432x288 with 2 Axes>"
      ]
     },
     "metadata": {
      "needs_background": "light"
     },
     "output_type": "display_data"
    }
   ],
   "source": [
    "y_pred = tree.predict(X_train)\n",
    "\n",
    "accuracy = accuracy_score(y_train, y_pred)\n",
    "print(\"Accuracy:\", accuracy)\n",
    "\n",
    "conf_mat = confusion_matrix(y_train, y_pred)\n",
    "\n",
    "# plot the confusion matrix\n",
    "disp = ConfusionMatrixDisplay(confusion_matrix=conf_mat)\n",
    "disp.plot()"
   ]
  },
  {
   "cell_type": "code",
   "execution_count": 92,
   "metadata": {},
   "outputs": [
    {
     "name": "stdout",
     "output_type": "stream",
     "text": [
      "Accuracy: 0.706291797461444\n"
     ]
    },
    {
     "data": {
      "text/plain": [
       "<sklearn.metrics._plot.confusion_matrix.ConfusionMatrixDisplay at 0x1ff9ab3d190>"
      ]
     },
     "execution_count": 92,
     "metadata": {},
     "output_type": "execute_result"
    },
    {
     "data": {
      "image/png": "[encoded data removed]",
      "text/plain": [
       "<Figure size 432x288 with 2 Axes>"
      ]
     },
     "metadata": {
      "needs_background": "light"
     },
     "output_type": "display_data"
    }
   ],
   "source": [
    "y_pred = tree.predict(X_test)\n",
    "\n",
    "accuracy = accuracy_score(y_test, y_pred)\n",
    "print(\"Accuracy:\", accuracy)\n",
    "\n",
    "conf_mat = confusion_matrix(y_test, y_pred)\n",
    "\n",
    "# plot the confusion matrix\n",
    "disp = ConfusionMatrixDisplay(confusion_matrix=conf_mat)\n",
    "disp.plot()"
   ]
  },
  {
   "cell_type": "code",
   "execution_count": null,
   "metadata": {},
   "outputs": [],
   "source": []
  }
 ],
 "metadata": {
  "colab": {
   "provenance": []
  },
  "kernelspec": {
   "display_name": "Python 3",
   "language": "python",
   "name": "python3"
  },
  "language_info": {
   "codemirror_mode": {
    "name": "ipython",
    "version": 3
   },
   "file_extension": ".py",
   "mimetype": "text/x-python",
   "name": "python",
   "nbconvert_exporter": "python",
   "pygments_lexer": "ipython3",
   "version": "3.8.8"
  }
 },
 "nbformat": 4,
 "nbformat_minor": 1
}
